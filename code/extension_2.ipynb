{
 "cells": [
  {
   "cell_type": "code",
   "execution_count": 1,
   "id": "initial_id",
   "metadata": {
    "ExecuteTime": {
     "end_time": "2024-12-13T07:10:27.912594Z",
     "start_time": "2024-12-13T07:10:20.819656Z"
    },
    "collapsed": true
   },
   "outputs": [],
   "source": [
    "import torch\n",
    "import torch.nn as nn\n",
    "import torch.optim as optim\n",
    "import torch.nn.functional as F\n",
    "from torch.utils.data import Dataset, DataLoader\n",
    "from torchvision import transforms, datasets\n",
    "from torchvision.transforms import v2\n",
    "from torchvision.utils import save_image\n",
    "from matplotlib import pyplot as plt\n",
    "from tqdm import trange\n",
    "from score import f1\n",
    "import math\n",
    "from models.Wformer import *\n",
    "import os\n",
    "from utils import plot2images\n",
    "from dataset import get_image_dataloader, create_mixed_dataset\n"
   ]
  },
  {
   "cell_type": "code",
   "execution_count": 2,
   "id": "bdbc24ca",
   "metadata": {},
   "outputs": [],
   "source": [
    "dataset_size = 1000\n",
    "image_size = 256\n",
    "num_bits = 64\n",
    "batch_size = 64\n",
    "hidden_channels = 16\n",
    "num_fems = 5\n",
    "num_heads = 8\n",
    "\n",
    "if torch.backends.mps.is_available():\n",
    "    device = torch.device('mps')\n",
    "else:\n",
    "    device = torch.device('cuda') if torch.cuda.is_available() else 'cpu'\n",
    "\n",
    "transform = transforms.Compose([\n",
    "                                transforms.Resize(image_size),\n",
    "                                transforms.CenterCrop(image_size),\n",
    "                                transforms.ToTensor(),\n",
    "                            ])"
   ]
  },
  {
   "cell_type": "markdown",
   "id": "8540fe9f",
   "metadata": {},
   "source": [
    "# Train Wformer Model"
   ]
  },
  {
   "cell_type": "code",
   "execution_count": 3,
   "id": "fe2193ea",
   "metadata": {},
   "outputs": [],
   "source": [
    "\n",
    "train_loader = get_image_dataloader(\"./../data/images/train\", transform=transform, batch_size=batch_size)\n",
    "val_loader = get_image_dataloader(\"./../data/images/val\", transform=transform, batch_size=batch_size)"
   ]
  },
  {
   "cell_type": "code",
   "execution_count": 9,
   "id": "aa334783",
   "metadata": {
    "ExecuteTime": {
     "end_time": "2024-12-13T07:59:31.498692Z",
     "start_time": "2024-12-13T07:59:31.193842Z"
    }
   },
   "outputs": [],
   "source": [
    "num_epochs = 10\n",
    "lr = 1e-3\n",
    "adv_lr = 5e-4\n",
    "image_loss_weight = 3\n",
    "wm_loss_weight = 10\n",
    "adv_steps = 3\n",
    "adv_loss_weight = 3\n",
    "\n",
    "\n",
    "encoder = Encoder(image_size, num_bits, num_fems, hidden_channels, num_heads).to(device)\n",
    "decoder = Decoder(image_size, num_bits, hidden_channels).to(device)\n",
    "discriminator = VisionTransformerClassifier(image_size, 2, 8, 2).to(device)\n",
    "\n",
    "encoder_opt = optim.Adam(encoder.parameters(), lr=lr)\n",
    "decoder_opt = optim.Adam(decoder.parameters(), lr=lr)\n",
    "discriminator_opt = optim.Adam(discriminator.parameters(), lr=adv_lr)\n",
    "image_crit = nn.MSELoss()\n",
    "wm_crit = nn.MSELoss()\n",
    "adv_crit = nn.CrossEntropyLoss()"
   ]
  },
  {
   "cell_type": "code",
   "execution_count": 10,
   "id": "5652d21b8e7e885e",
   "metadata": {
    "ExecuteTime": {
     "end_time": "2024-12-13T08:06:06.737310Z",
     "start_time": "2024-12-13T08:04:35.717667Z"
    }
   },
   "outputs": [
    {
     "name": "stdout",
     "output_type": "stream",
     "text": [
      "Epoch: 1/10, Steps: 1/16,  Loss: 0.0000\n",
      "Watermark Loss: 0.0018\n",
      "Image Loss: 0.0007\n",
      "Discriminator Loss: 1.7105\n",
      "Avg bit accuracy: 0.99755859375\n",
      "Epoch: 1/10, Steps: 2/16,  Loss: 0.0000\n",
      "Watermark Loss: 0.0011\n",
      "Image Loss: 0.0008\n",
      "Discriminator Loss: 1.3878\n",
      "Avg bit accuracy: 0.998779296875\n",
      "Epoch: 1/10, Steps: 3/16,  Loss: 0.0000\n",
      "Watermark Loss: 0.0005\n",
      "Image Loss: 0.0007\n",
      "Discriminator Loss: 1.5141\n",
      "Avg bit accuracy: 0.999267578125\n",
      "Epoch: 1/10, Steps: 4/16,  Loss: 0.0000\n",
      "Watermark Loss: 0.0004\n",
      "Image Loss: 0.0007\n",
      "Discriminator Loss: 1.3751\n",
      "Avg bit accuracy: 0.999267578125\n",
      "Epoch: 1/10, Steps: 5/16,  Loss: 0.0000\n",
      "Watermark Loss: 0.0011\n",
      "Image Loss: 0.0007\n",
      "Discriminator Loss: 1.4227\n",
      "Avg bit accuracy: 0.998779296875\n",
      "Epoch: 1/10, Steps: 6/16,  Loss: 0.0000\n",
      "Watermark Loss: 0.0009\n",
      "Image Loss: 0.0007\n",
      "Discriminator Loss: 1.3745\n",
      "Avg bit accuracy: 0.9990234375\n",
      "Epoch: 1/10, Steps: 7/16,  Loss: 0.0000\n",
      "Watermark Loss: 0.0007\n",
      "Image Loss: 0.0007\n",
      "Discriminator Loss: 1.3677\n",
      "Avg bit accuracy: 0.998779296875\n",
      "Epoch: 1/10, Steps: 8/16,  Loss: 0.0000\n",
      "Watermark Loss: 0.0006\n",
      "Image Loss: 0.0007\n",
      "Discriminator Loss: 1.3605\n",
      "Avg bit accuracy: 0.9990234375\n",
      "Epoch: 1/10, Steps: 9/16,  Loss: 0.0000\n",
      "Watermark Loss: 0.0001\n",
      "Image Loss: 0.0007\n",
      "Discriminator Loss: 1.3341\n",
      "Avg bit accuracy: 1.0\n",
      "Epoch: 1/10, Steps: 10/16,  Loss: 0.0000\n",
      "Watermark Loss: 0.0006\n",
      "Image Loss: 0.0007\n",
      "Discriminator Loss: 1.3317\n",
      "Avg bit accuracy: 0.999267578125\n",
      "Epoch: 1/10, Steps: 11/16,  Loss: 0.0000\n",
      "Watermark Loss: 0.0007\n",
      "Image Loss: 0.0007\n",
      "Discriminator Loss: 1.3073\n",
      "Avg bit accuracy: 0.999267578125\n",
      "Epoch: 1/10, Steps: 12/16,  Loss: 0.0000\n",
      "Watermark Loss: 0.0016\n",
      "Image Loss: 0.0007\n",
      "Discriminator Loss: 1.2947\n",
      "Avg bit accuracy: 0.99755859375\n",
      "Epoch: 1/10, Steps: 13/16,  Loss: 0.0000\n",
      "Watermark Loss: 0.0011\n",
      "Image Loss: 0.0007\n",
      "Discriminator Loss: 1.2595\n",
      "Avg bit accuracy: 0.998779296875\n",
      "Epoch: 1/10, Steps: 14/16,  Loss: 0.0000\n",
      "Watermark Loss: 0.0010\n",
      "Image Loss: 0.0007\n",
      "Discriminator Loss: 1.2270\n",
      "Avg bit accuracy: 0.9990234375\n",
      "Epoch: 1/10, Steps: 15/16,  Loss: 0.0000\n",
      "Watermark Loss: 0.0016\n",
      "Image Loss: 0.0007\n",
      "Discriminator Loss: 1.1775\n",
      "Avg bit accuracy: 0.997802734375\n",
      "Epoch: 1/10, Steps: 16/16,  Loss: 0.0000\n",
      "Watermark Loss: 0.0008\n",
      "Image Loss: 0.0007\n",
      "Discriminator Loss: 1.0970\n",
      "Avg bit accuracy: 0.998828113079071\n",
      "Epoch: 2/10, Steps: 1/16,  Loss: 0.0000\n",
      "Watermark Loss: 0.0015\n",
      "Image Loss: 0.0007\n",
      "Discriminator Loss: 0.9788\n",
      "Avg bit accuracy: 0.998046875\n",
      "Epoch: 2/10, Steps: 2/16,  Loss: 0.0000\n",
      "Watermark Loss: 0.0014\n",
      "Image Loss: 0.0008\n",
      "Discriminator Loss: 0.7838\n",
      "Avg bit accuracy: 0.998779296875\n",
      "Epoch: 2/10, Steps: 3/16,  Loss: 0.0000\n",
      "Watermark Loss: 0.0003\n",
      "Image Loss: 0.0007\n",
      "Discriminator Loss: 0.4919\n",
      "Avg bit accuracy: 0.99951171875\n",
      "Epoch: 2/10, Steps: 4/16,  Loss: 0.0000\n",
      "Watermark Loss: 0.0001\n",
      "Image Loss: 0.0007\n",
      "Discriminator Loss: 0.1756\n",
      "Avg bit accuracy: 1.0\n",
      "Epoch: 2/10, Steps: 5/16,  Loss: 0.0000\n",
      "Watermark Loss: 0.0011\n",
      "Image Loss: 0.0007\n",
      "Discriminator Loss: 0.0227\n",
      "Avg bit accuracy: 0.998291015625\n",
      "Epoch: 2/10, Steps: 6/16,  Loss: 0.0000\n",
      "Watermark Loss: 0.0010\n",
      "Image Loss: 0.0007\n",
      "Discriminator Loss: 0.0026\n",
      "Avg bit accuracy: 0.99853515625\n",
      "Epoch: 2/10, Steps: 7/16,  Loss: 0.0000\n",
      "Watermark Loss: 0.0009\n",
      "Image Loss: 0.0007\n",
      "Discriminator Loss: 0.0005\n",
      "Avg bit accuracy: 0.998779296875\n",
      "Epoch: 2/10, Steps: 8/16,  Loss: 0.0000\n",
      "Watermark Loss: 0.0007\n",
      "Image Loss: 0.0007\n",
      "Discriminator Loss: 0.0003\n",
      "Avg bit accuracy: 0.999267578125\n",
      "Epoch: 2/10, Steps: 9/16,  Loss: 0.0000\n",
      "Watermark Loss: 0.0008\n",
      "Image Loss: 0.0007\n",
      "Discriminator Loss: 0.0001\n",
      "Avg bit accuracy: 0.999267578125\n",
      "Epoch: 2/10, Steps: 10/16,  Loss: 0.0000\n",
      "Watermark Loss: 0.0010\n",
      "Image Loss: 0.0007\n",
      "Discriminator Loss: 0.0001\n",
      "Avg bit accuracy: 0.998779296875\n",
      "Epoch: 2/10, Steps: 11/16,  Loss: 0.0000\n",
      "Watermark Loss: 0.0013\n",
      "Image Loss: 0.0007\n",
      "Discriminator Loss: 0.0001\n",
      "Avg bit accuracy: 0.998046875\n",
      "Epoch: 2/10, Steps: 12/16,  Loss: 0.0000\n",
      "Watermark Loss: 0.0015\n",
      "Image Loss: 0.0007\n",
      "Discriminator Loss: 0.0001\n",
      "Avg bit accuracy: 0.99853515625\n",
      "Epoch: 2/10, Steps: 13/16,  Loss: 0.0000\n",
      "Watermark Loss: 0.0009\n",
      "Image Loss: 0.0007\n",
      "Discriminator Loss: 0.0001\n",
      "Avg bit accuracy: 0.99853515625\n",
      "Epoch: 2/10, Steps: 14/16,  Loss: 0.0000\n",
      "Watermark Loss: 0.0012\n",
      "Image Loss: 0.0007\n",
      "Discriminator Loss: 0.0001\n",
      "Avg bit accuracy: 0.99853515625\n",
      "Epoch: 2/10, Steps: 15/16,  Loss: 0.0000\n",
      "Watermark Loss: 0.0013\n",
      "Image Loss: 0.0007\n",
      "Discriminator Loss: 0.0001\n",
      "Avg bit accuracy: 0.998046875\n",
      "Epoch: 2/10, Steps: 16/16,  Loss: 0.0000\n",
      "Watermark Loss: 0.0016\n",
      "Image Loss: 0.0007\n",
      "Discriminator Loss: 0.0001\n",
      "Avg bit accuracy: 0.9984375238418579\n"
     ]
    },
    {
     "ename": "KeyboardInterrupt",
     "evalue": "",
     "output_type": "error",
     "traceback": [
      "\u001b[0;31m---------------------------------------------------------------------------\u001b[0m",
      "\u001b[0;31mKeyboardInterrupt\u001b[0m                         Traceback (most recent call last)",
      "Cell \u001b[0;32mIn[10], line 3\u001b[0m\n\u001b[1;32m      1\u001b[0m avg_bit_acc \u001b[38;5;241m=\u001b[39m \u001b[38;5;241m0\u001b[39m\n\u001b[1;32m      2\u001b[0m \u001b[38;5;28;01mfor\u001b[39;00m epoch \u001b[38;5;129;01min\u001b[39;00m \u001b[38;5;28mrange\u001b[39m(num_epochs):\n\u001b[0;32m----> 3\u001b[0m     \u001b[38;5;28;01mfor\u001b[39;00m i, images \u001b[38;5;129;01min\u001b[39;00m \u001b[38;5;28menumerate\u001b[39m(train_loader):\n\u001b[1;32m      4\u001b[0m         watermarks \u001b[38;5;241m=\u001b[39m torch\u001b[38;5;241m.\u001b[39mrandint(\u001b[38;5;241m0\u001b[39m, \u001b[38;5;241m2\u001b[39m, (images\u001b[38;5;241m.\u001b[39mshape[\u001b[38;5;241m0\u001b[39m], num_bits))\u001b[38;5;241m.\u001b[39mfloat()\u001b[38;5;241m.\u001b[39mto(device)\n\u001b[1;32m      5\u001b[0m         images \u001b[38;5;241m=\u001b[39m images\u001b[38;5;241m.\u001b[39mto(device)\n",
      "File \u001b[0;32m~/Library/Python/3.9/lib/python/site-packages/torch/utils/data/dataloader.py:701\u001b[0m, in \u001b[0;36m_BaseDataLoaderIter.__next__\u001b[0;34m(self)\u001b[0m\n\u001b[1;32m    698\u001b[0m \u001b[38;5;28;01mif\u001b[39;00m \u001b[38;5;28mself\u001b[39m\u001b[38;5;241m.\u001b[39m_sampler_iter \u001b[38;5;129;01mis\u001b[39;00m \u001b[38;5;28;01mNone\u001b[39;00m:\n\u001b[1;32m    699\u001b[0m     \u001b[38;5;66;03m# TODO(https://github.com/pytorch/pytorch/issues/76750)\u001b[39;00m\n\u001b[1;32m    700\u001b[0m     \u001b[38;5;28mself\u001b[39m\u001b[38;5;241m.\u001b[39m_reset()  \u001b[38;5;66;03m# type: ignore[call-arg]\u001b[39;00m\n\u001b[0;32m--> 701\u001b[0m data \u001b[38;5;241m=\u001b[39m \u001b[38;5;28;43mself\u001b[39;49m\u001b[38;5;241;43m.\u001b[39;49m\u001b[43m_next_data\u001b[49m\u001b[43m(\u001b[49m\u001b[43m)\u001b[49m\n\u001b[1;32m    702\u001b[0m \u001b[38;5;28mself\u001b[39m\u001b[38;5;241m.\u001b[39m_num_yielded \u001b[38;5;241m+\u001b[39m\u001b[38;5;241m=\u001b[39m \u001b[38;5;241m1\u001b[39m\n\u001b[1;32m    703\u001b[0m \u001b[38;5;28;01mif\u001b[39;00m (\n\u001b[1;32m    704\u001b[0m     \u001b[38;5;28mself\u001b[39m\u001b[38;5;241m.\u001b[39m_dataset_kind \u001b[38;5;241m==\u001b[39m _DatasetKind\u001b[38;5;241m.\u001b[39mIterable\n\u001b[1;32m    705\u001b[0m     \u001b[38;5;129;01mand\u001b[39;00m \u001b[38;5;28mself\u001b[39m\u001b[38;5;241m.\u001b[39m_IterableDataset_len_called \u001b[38;5;129;01mis\u001b[39;00m \u001b[38;5;129;01mnot\u001b[39;00m \u001b[38;5;28;01mNone\u001b[39;00m\n\u001b[1;32m    706\u001b[0m     \u001b[38;5;129;01mand\u001b[39;00m \u001b[38;5;28mself\u001b[39m\u001b[38;5;241m.\u001b[39m_num_yielded \u001b[38;5;241m>\u001b[39m \u001b[38;5;28mself\u001b[39m\u001b[38;5;241m.\u001b[39m_IterableDataset_len_called\n\u001b[1;32m    707\u001b[0m ):\n",
      "File \u001b[0;32m~/Library/Python/3.9/lib/python/site-packages/torch/utils/data/dataloader.py:1437\u001b[0m, in \u001b[0;36m_MultiProcessingDataLoaderIter._next_data\u001b[0;34m(self)\u001b[0m\n\u001b[1;32m   1434\u001b[0m \u001b[38;5;28;01melse\u001b[39;00m:\n\u001b[1;32m   1435\u001b[0m     \u001b[38;5;66;03m# no valid `self._rcvd_idx` is found (i.e., didn't break)\u001b[39;00m\n\u001b[1;32m   1436\u001b[0m     \u001b[38;5;28;01mif\u001b[39;00m \u001b[38;5;129;01mnot\u001b[39;00m \u001b[38;5;28mself\u001b[39m\u001b[38;5;241m.\u001b[39m_persistent_workers:\n\u001b[0;32m-> 1437\u001b[0m         \u001b[38;5;28;43mself\u001b[39;49m\u001b[38;5;241;43m.\u001b[39;49m\u001b[43m_shutdown_workers\u001b[49m\u001b[43m(\u001b[49m\u001b[43m)\u001b[49m\n\u001b[1;32m   1438\u001b[0m     \u001b[38;5;28;01mraise\u001b[39;00m \u001b[38;5;167;01mStopIteration\u001b[39;00m\n\u001b[1;32m   1440\u001b[0m \u001b[38;5;66;03m# Now `self._rcvd_idx` is the batch index we want to fetch\u001b[39;00m\n\u001b[1;32m   1441\u001b[0m \n\u001b[1;32m   1442\u001b[0m \u001b[38;5;66;03m# Check if the next sample has already been generated\u001b[39;00m\n",
      "File \u001b[0;32m~/Library/Python/3.9/lib/python/site-packages/torch/utils/data/dataloader.py:1568\u001b[0m, in \u001b[0;36m_MultiProcessingDataLoaderIter._shutdown_workers\u001b[0;34m(self)\u001b[0m\n\u001b[1;32m   1563\u001b[0m         \u001b[38;5;28mself\u001b[39m\u001b[38;5;241m.\u001b[39m_mark_worker_as_unavailable(worker_id, shutdown\u001b[38;5;241m=\u001b[39m\u001b[38;5;28;01mTrue\u001b[39;00m)\n\u001b[1;32m   1564\u001b[0m \u001b[38;5;28;01mfor\u001b[39;00m w \u001b[38;5;129;01min\u001b[39;00m \u001b[38;5;28mself\u001b[39m\u001b[38;5;241m.\u001b[39m_workers:\n\u001b[1;32m   1565\u001b[0m     \u001b[38;5;66;03m# We should be able to join here, but in case anything went\u001b[39;00m\n\u001b[1;32m   1566\u001b[0m     \u001b[38;5;66;03m# wrong, we set a timeout and if the workers fail to join,\u001b[39;00m\n\u001b[1;32m   1567\u001b[0m     \u001b[38;5;66;03m# they are killed in the `finally` block.\u001b[39;00m\n\u001b[0;32m-> 1568\u001b[0m     \u001b[43mw\u001b[49m\u001b[38;5;241;43m.\u001b[39;49m\u001b[43mjoin\u001b[49m\u001b[43m(\u001b[49m\u001b[43mtimeout\u001b[49m\u001b[38;5;241;43m=\u001b[39;49m\u001b[43m_utils\u001b[49m\u001b[38;5;241;43m.\u001b[39;49m\u001b[43mMP_STATUS_CHECK_INTERVAL\u001b[49m\u001b[43m)\u001b[49m\n\u001b[1;32m   1569\u001b[0m \u001b[38;5;28;01mfor\u001b[39;00m q \u001b[38;5;129;01min\u001b[39;00m \u001b[38;5;28mself\u001b[39m\u001b[38;5;241m.\u001b[39m_index_queues:\n\u001b[1;32m   1570\u001b[0m     q\u001b[38;5;241m.\u001b[39mcancel_join_thread()\n",
      "File \u001b[0;32m/Applications/Xcode.app/Contents/Developer/Library/Frameworks/Python3.framework/Versions/3.9/lib/python3.9/multiprocessing/process.py:149\u001b[0m, in \u001b[0;36mBaseProcess.join\u001b[0;34m(self, timeout)\u001b[0m\n\u001b[1;32m    147\u001b[0m \u001b[38;5;28;01massert\u001b[39;00m \u001b[38;5;28mself\u001b[39m\u001b[38;5;241m.\u001b[39m_parent_pid \u001b[38;5;241m==\u001b[39m os\u001b[38;5;241m.\u001b[39mgetpid(), \u001b[38;5;124m'\u001b[39m\u001b[38;5;124mcan only join a child process\u001b[39m\u001b[38;5;124m'\u001b[39m\n\u001b[1;32m    148\u001b[0m \u001b[38;5;28;01massert\u001b[39;00m \u001b[38;5;28mself\u001b[39m\u001b[38;5;241m.\u001b[39m_popen \u001b[38;5;129;01mis\u001b[39;00m \u001b[38;5;129;01mnot\u001b[39;00m \u001b[38;5;28;01mNone\u001b[39;00m, \u001b[38;5;124m'\u001b[39m\u001b[38;5;124mcan only join a started process\u001b[39m\u001b[38;5;124m'\u001b[39m\n\u001b[0;32m--> 149\u001b[0m res \u001b[38;5;241m=\u001b[39m \u001b[38;5;28;43mself\u001b[39;49m\u001b[38;5;241;43m.\u001b[39;49m\u001b[43m_popen\u001b[49m\u001b[38;5;241;43m.\u001b[39;49m\u001b[43mwait\u001b[49m\u001b[43m(\u001b[49m\u001b[43mtimeout\u001b[49m\u001b[43m)\u001b[49m\n\u001b[1;32m    150\u001b[0m \u001b[38;5;28;01mif\u001b[39;00m res \u001b[38;5;129;01mis\u001b[39;00m \u001b[38;5;129;01mnot\u001b[39;00m \u001b[38;5;28;01mNone\u001b[39;00m:\n\u001b[1;32m    151\u001b[0m     _children\u001b[38;5;241m.\u001b[39mdiscard(\u001b[38;5;28mself\u001b[39m)\n",
      "File \u001b[0;32m/Applications/Xcode.app/Contents/Developer/Library/Frameworks/Python3.framework/Versions/3.9/lib/python3.9/multiprocessing/popen_fork.py:40\u001b[0m, in \u001b[0;36mPopen.wait\u001b[0;34m(self, timeout)\u001b[0m\n\u001b[1;32m     38\u001b[0m \u001b[38;5;28;01mif\u001b[39;00m timeout \u001b[38;5;129;01mis\u001b[39;00m \u001b[38;5;129;01mnot\u001b[39;00m \u001b[38;5;28;01mNone\u001b[39;00m:\n\u001b[1;32m     39\u001b[0m     \u001b[38;5;28;01mfrom\u001b[39;00m \u001b[38;5;21;01mmultiprocessing\u001b[39;00m\u001b[38;5;21;01m.\u001b[39;00m\u001b[38;5;21;01mconnection\u001b[39;00m \u001b[38;5;28;01mimport\u001b[39;00m wait\n\u001b[0;32m---> 40\u001b[0m     \u001b[38;5;28;01mif\u001b[39;00m \u001b[38;5;129;01mnot\u001b[39;00m \u001b[43mwait\u001b[49m\u001b[43m(\u001b[49m\u001b[43m[\u001b[49m\u001b[38;5;28;43mself\u001b[39;49m\u001b[38;5;241;43m.\u001b[39;49m\u001b[43msentinel\u001b[49m\u001b[43m]\u001b[49m\u001b[43m,\u001b[49m\u001b[43m \u001b[49m\u001b[43mtimeout\u001b[49m\u001b[43m)\u001b[49m:\n\u001b[1;32m     41\u001b[0m         \u001b[38;5;28;01mreturn\u001b[39;00m \u001b[38;5;28;01mNone\u001b[39;00m\n\u001b[1;32m     42\u001b[0m \u001b[38;5;66;03m# This shouldn't block if wait() returned successfully.\u001b[39;00m\n",
      "File \u001b[0;32m/Applications/Xcode.app/Contents/Developer/Library/Frameworks/Python3.framework/Versions/3.9/lib/python3.9/multiprocessing/connection.py:936\u001b[0m, in \u001b[0;36mwait\u001b[0;34m(object_list, timeout)\u001b[0m\n\u001b[1;32m    933\u001b[0m     deadline \u001b[38;5;241m=\u001b[39m time\u001b[38;5;241m.\u001b[39mmonotonic() \u001b[38;5;241m+\u001b[39m timeout\n\u001b[1;32m    935\u001b[0m \u001b[38;5;28;01mwhile\u001b[39;00m \u001b[38;5;28;01mTrue\u001b[39;00m:\n\u001b[0;32m--> 936\u001b[0m     ready \u001b[38;5;241m=\u001b[39m \u001b[43mselector\u001b[49m\u001b[38;5;241;43m.\u001b[39;49m\u001b[43mselect\u001b[49m\u001b[43m(\u001b[49m\u001b[43mtimeout\u001b[49m\u001b[43m)\u001b[49m\n\u001b[1;32m    937\u001b[0m     \u001b[38;5;28;01mif\u001b[39;00m ready:\n\u001b[1;32m    938\u001b[0m         \u001b[38;5;28;01mreturn\u001b[39;00m [key\u001b[38;5;241m.\u001b[39mfileobj \u001b[38;5;28;01mfor\u001b[39;00m (key, events) \u001b[38;5;129;01min\u001b[39;00m ready]\n",
      "File \u001b[0;32m/Applications/Xcode.app/Contents/Developer/Library/Frameworks/Python3.framework/Versions/3.9/lib/python3.9/selectors.py:416\u001b[0m, in \u001b[0;36m_PollLikeSelector.select\u001b[0;34m(self, timeout)\u001b[0m\n\u001b[1;32m    414\u001b[0m ready \u001b[38;5;241m=\u001b[39m []\n\u001b[1;32m    415\u001b[0m \u001b[38;5;28;01mtry\u001b[39;00m:\n\u001b[0;32m--> 416\u001b[0m     fd_event_list \u001b[38;5;241m=\u001b[39m \u001b[38;5;28;43mself\u001b[39;49m\u001b[38;5;241;43m.\u001b[39;49m\u001b[43m_selector\u001b[49m\u001b[38;5;241;43m.\u001b[39;49m\u001b[43mpoll\u001b[49m\u001b[43m(\u001b[49m\u001b[43mtimeout\u001b[49m\u001b[43m)\u001b[49m\n\u001b[1;32m    417\u001b[0m \u001b[38;5;28;01mexcept\u001b[39;00m \u001b[38;5;167;01mInterruptedError\u001b[39;00m:\n\u001b[1;32m    418\u001b[0m     \u001b[38;5;28;01mreturn\u001b[39;00m ready\n",
      "\u001b[0;31mKeyboardInterrupt\u001b[0m: "
     ]
    }
   ],
   "source": [
    "avg_bit_acc = 0\n",
    "for epoch in range(num_epochs):\n",
    "    for i, images in enumerate(train_loader):\n",
    "        watermarks = torch.randint(0, 2, (images.shape[0], num_bits)).float().to(device)\n",
    "        images = images.to(device)\n",
    "        \n",
    "        encoder_opt.zero_grad()\n",
    "        decoder_opt.zero_grad()\n",
    "        \n",
    "        encoded_images = encoder(images, watermarks)\n",
    "        decoded_watermarks_probs = decoder(encoded_images.detach()) \n",
    "        decoded_watermarks = torch.round(decoded_watermarks_probs)\n",
    "        wm_loss = wm_crit(decoded_watermarks_probs, watermarks)\n",
    "        image_loss = image_crit(encoded_images, images)\n",
    "        \n",
    "        for j in range(adv_steps):\n",
    "            discriminator_opt.zero_grad()\n",
    "            adv_original = discriminator(images.detach())\n",
    "            adv_encoded = discriminator(encoded_images.detach())\n",
    "            discriminator_loss = adv_crit(adv_original, torch.zeros(adv_original.shape[0]).to(device)) + \\\n",
    "                                adv_crit(adv_encoded, torch.ones(adv_original.shape[0]).to(device))\n",
    "            discriminator_loss.backward()\n",
    "            discriminator_opt.step()\n",
    "\n",
    "        \n",
    "        adv_encoded = discriminator(encoded_images)\n",
    "        adversary_loss =  adv_crit(adv_encoded, torch.zeros(adv_original.shape[0]).to(device))\n",
    "        adv_scale = adv_loss_weight if avg_bit_acc > 0.9 else 0\n",
    "        loss = wm_loss_weight * wm_loss + image_loss_weight * image_loss + adv_loss_weight * adversary_loss\n",
    "        loss.backward()\n",
    "        encoder_opt.step()\n",
    "        decoder_opt.step()\n",
    "    \n",
    "        \n",
    "        print('Epoch: {}/{}, Steps: {}/{},  Loss: {:.4f}'.format(epoch+1, num_epochs, i+1, len(train_loader), loss.item()))\n",
    "        print('Watermark Loss: {:.4f}'.format(wm_loss.item()))\n",
    "        print('Image Loss: {:.4f}'.format(image_loss.item()))\n",
    "        print(\"Discriminator Loss: {:.4f}\".format(discriminator_loss.item()))\n",
    "        print(\"Adversary Loss: {:.4f}\".format(adversary_loss.item()))\n",
    "        avg_bit_acc = torch.mean(torch.sum(decoded_watermarks == watermarks, dim=1).float() / num_bits)\n",
    "        print(f\"Avg bit accuracy: {avg_bit_acc}\")\n",
    "        \n",
    "    plot2images(images[0], \"Images\", encoded_images[0], \"Encoded\")\n"
   ]
  },
  {
   "cell_type": "code",
   "execution_count": 11,
   "id": "d85f8fabeb0343c3",
   "metadata": {},
   "outputs": [
    {
     "name": "stdout",
     "output_type": "stream",
     "text": [
      "Avg bit accuracy: 0.9984647035598755\n",
      "Avg discriminator accuracy: 1.0\n",
      "Watermark Loss: 0.0013\n",
      "Image Loss: 0.0007\n",
      "Discriminator Loss: 0.0001\n",
      "Adversary Loss: 0.0000\n"
     ]
    }
   ],
   "source": [
    "avg_loss = 0\n",
    "avg_wm_loss = 0\n",
    "avg_image_loss = 0\n",
    "avg_discriminator_loss = 0\n",
    "avg_adv_loss = 0\n",
    "avg_bit_acc = 0\n",
    "avg_discriminator_acc = 0\n",
    "with torch.no_grad():\n",
    "     for i, images in enumerate(val_loader):\n",
    "         \n",
    "        watermarks = torch.randint(0, 2, (images.shape[0], num_bits)).float().to(device)\n",
    "        images = images.to(device)\n",
    "        \n",
    "        encoded_images = encoder(images, watermarks)\n",
    "        decoded_watermarks_probs = decoder(encoded_images) \n",
    "        decoded_watermarks = torch.round(decoded_watermarks_probs)\n",
    "        \n",
    "        avg_wm_loss += wm_crit(decoded_watermarks_probs, watermarks)\n",
    "        avg_image_loss += image_crit(encoded_images, images)\n",
    "        adv_original = discriminator(images)\n",
    "        adv_encoded = discriminator(encoded_images)\n",
    "        avg_discriminator_acc += ((torch.argmax(adv_original, dim=-1) == 0).float().mean() + (torch.argmax(adv_encoded, dim=-1) == 1).float().mean()) / 2\n",
    "        avg_discriminator_loss += adv_crit(adv_original, torch.zeros(adv_original.shape[0]).to(device)) + adv_crit(adv_encoded, torch.ones(adv_original.shape[0]).to(device))\n",
    "        avg_adv_loss += adv_crit(adv_encoded, torch.ones(adv_encoded.shape[0]).to(device))\n",
    "        avg_bit_acc += torch.mean((decoded_watermarks == watermarks).float())\n",
    "\n",
    "print(f\"Avg bit accuracy: {avg_bit_acc/len(val_loader)}\")\n",
    "print(f\"Avg discriminator accuracy: {avg_discriminator_acc/len(val_loader)}\")\n",
    "print('Watermark Loss: {:.4f}'.format(avg_wm_loss.item()/len(val_loader)))\n",
    "print('Image Loss: {:.4f}'.format(avg_image_loss.item()/len(val_loader)))\n",
    "print(\"Discriminator Loss: {:.4f}\".format(avg_discriminator_loss.item()/len(val_loader)))\n",
    "print(\"Adversary Loss: {:.4f}\".format(avg_adv_loss.item()/len(val_loader)))\n"
   ]
  },
  {
   "cell_type": "code",
   "execution_count": 12,
   "metadata": {},
   "outputs": [],
   "source": [
    "torch.save(encoder.state_dict(), \"./models/wformer_encoder.pth\")\n",
    "torch.save(decoder.state_dict(), \"./models/wformer_decoder.pth\")\n",
    "torch.save(discriminator.state_dict(), \"./models/vit_discriminator.pth\")"
   ]
  },
  {
   "cell_type": "markdown",
   "id": "38d95ba1",
   "metadata": {},
   "source": [
    "# Use Wformer and ViT Classifier to Analyze Images"
   ]
  },
  {
   "cell_type": "code",
   "execution_count": 13,
   "id": "f917aca2",
   "metadata": {},
   "outputs": [
    {
     "name": "stderr",
     "output_type": "stream",
     "text": [
      "/var/folders/qq/nvxc4hhs37705ll5k416pcy00000gn/T/ipykernel_63175/2476031497.py:4: FutureWarning: You are using `torch.load` with `weights_only=False` (the current default value), which uses the default pickle module implicitly. It is possible to construct malicious pickle data which will execute arbitrary code during unpickling (See https://github.com/pytorch/pytorch/blob/main/SECURITY.md#untrusted-models for more details). In a future release, the default value for `weights_only` will be flipped to `True`. This limits the functions that could be executed during unpickling. Arbitrary objects will no longer be allowed to be loaded via this mode unless they are explicitly allowlisted by the user via `torch.serialization.add_safe_globals`. We recommend you start setting `weights_only=True` for any use case where you don't have full control of the loaded file. Please open an issue on GitHub for any issues related to this experimental feature.\n",
      "  encoder.load_state_dict(torch.load(\"./models/wformer_encoder.pth\", map_location=device))\n",
      "/var/folders/qq/nvxc4hhs37705ll5k416pcy00000gn/T/ipykernel_63175/2476031497.py:5: FutureWarning: You are using `torch.load` with `weights_only=False` (the current default value), which uses the default pickle module implicitly. It is possible to construct malicious pickle data which will execute arbitrary code during unpickling (See https://github.com/pytorch/pytorch/blob/main/SECURITY.md#untrusted-models for more details). In a future release, the default value for `weights_only` will be flipped to `True`. This limits the functions that could be executed during unpickling. Arbitrary objects will no longer be allowed to be loaded via this mode unless they are explicitly allowlisted by the user via `torch.serialization.add_safe_globals`. We recommend you start setting `weights_only=True` for any use case where you don't have full control of the loaded file. Please open an issue on GitHub for any issues related to this experimental feature.\n",
      "  decoder.load_state_dict(torch.load(\"./models/wformer_decoder.pth\", map_location=device))\n",
      "/var/folders/qq/nvxc4hhs37705ll5k416pcy00000gn/T/ipykernel_63175/2476031497.py:6: FutureWarning: You are using `torch.load` with `weights_only=False` (the current default value), which uses the default pickle module implicitly. It is possible to construct malicious pickle data which will execute arbitrary code during unpickling (See https://github.com/pytorch/pytorch/blob/main/SECURITY.md#untrusted-models for more details). In a future release, the default value for `weights_only` will be flipped to `True`. This limits the functions that could be executed during unpickling. Arbitrary objects will no longer be allowed to be loaded via this mode unless they are explicitly allowlisted by the user via `torch.serialization.add_safe_globals`. We recommend you start setting `weights_only=True` for any use case where you don't have full control of the loaded file. Please open an issue on GitHub for any issues related to this experimental feature.\n",
      "  discriminator.load_state_dict(torch.load(\"./models/vit_discriminator.pth\", map_location=device))\n"
     ]
    },
    {
     "data": {
      "text/plain": [
       "<All keys matched successfully>"
      ]
     },
     "execution_count": 13,
     "metadata": {},
     "output_type": "execute_result"
    }
   ],
   "source": [
    "encoder = Encoder(image_size, num_bits, num_fems, hidden_channels, num_heads).to(device)\n",
    "decoder = Decoder(image_size, num_bits, hidden_channels).to(device)\n",
    "discriminator = VisionTransformerClassifier(image_size, 2, 4, 2).to(device)\n",
    "encoder.load_state_dict(torch.load(\"./models/wformer_encoder.pth\", map_location=device))\n",
    "decoder.load_state_dict(torch.load(\"./models/wformer_decoder.pth\", map_location=device))\n",
    "discriminator.load_state_dict(torch.load(\"./models/vit_discriminator.pth\", map_location=device))"
   ]
  },
  {
   "cell_type": "code",
   "execution_count": 14,
   "id": "1ac04c10",
   "metadata": {},
   "outputs": [],
   "source": [
    "test_loader = get_image_dataloader(\"./../data/images/test\", transform=transform, batch_size=batch_size)"
   ]
  },
  {
   "cell_type": "code",
   "execution_count": 21,
   "id": "90bc8e68",
   "metadata": {},
   "outputs": [],
   "source": [
    "def wm_tensor_to_str(wm_tensor):\n",
    "    if len(wm_tensor.shape) == 1:\n",
    "        wm_tensor = wm_tensor.unsqueeze(0)\n",
    "    wm_tensor = wm_tensor.detach().cpu().int().tolist()\n",
    "    return [\"\".join([str(bit) for bit in wm]) for wm in wm_tensor]"
   ]
  },
  {
   "cell_type": "code",
   "execution_count": 24,
   "id": "3bfcd34d",
   "metadata": {},
   "outputs": [
    {
     "name": "stdout",
     "output_type": "stream",
     "text": [
      "{'Precision': 0.9999999996093749, 'Recall': 0.9999999996093749, 'F1-score': 0.9999999996093751, 'Accuracy': 0.9999999996093751}\n",
      "0.99853515625\n",
      "0.99853515625\n"
     ]
    }
   ],
   "source": [
    "tp = 1e-7\n",
    "fp = 1e-7\n",
    "tn = 1e-7\n",
    "fn = 1e-7\n",
    "# Bit accuracy of decoding only images that are predicted to be watermarked\n",
    "avg_pred_bit_acc = 0\n",
    "# Bit accuracy of decoding all images that are watermarked\n",
    "avg_total_bit_acc = 0\n",
    "true_wms = []\n",
    "pred_wms = []\n",
    "with torch.no_grad():\n",
    "    for images in test_loader:\n",
    "        images = images.to(device)\n",
    "        watermarks = torch.randint(0, 2, (images.shape[0], num_bits)).float().to(device)\n",
    "        total_pred_watermarks = torch.zeros_like(watermarks).float().to(device)\n",
    "        total_pred_watermarks[:] = 2\n",
    "        encode_split = watermarks.shape[0]//2\n",
    "        watermarks[:encode_split] = 2\n",
    "        true_wms += wm_tensor_to_str(watermarks)\n",
    "        true_labels = (watermarks[:, 0] != 2).int()\n",
    "        images[encode_split:] = encoder(images[encode_split:], watermarks[encode_split:])\n",
    "        pred_labels = torch.argmax(discriminator(images), dim=-1)\n",
    "        tp += torch.sum((pred_labels == 1) & (pred_labels == true_labels)).item()\n",
    "        tn += torch.sum((pred_labels == 0) & (pred_labels == true_labels)).item()\n",
    "        fp += torch.sum((pred_labels == 1) & (pred_labels != true_labels)).item()\n",
    "        fn += torch.sum((pred_labels == 0) & (pred_labels != true_labels)).item()\n",
    "        if torch.sum(pred_labels == 1) > 0:\n",
    "            encoded_images = images[pred_labels == 1]\n",
    "            true_watermarks = watermarks[pred_labels == 1]\n",
    "            pred_watermarks = torch.round(decoder(encoded_images))\n",
    "            total_pred_watermarks[pred_labels == 1] = pred_watermarks\n",
    "            avg_pred_bit_acc += torch.mean((pred_watermarks == true_watermarks).float()).item()\n",
    "        if torch.sum(true_labels == 1) > 0:\n",
    "            encoded_images = images[true_labels == 1]\n",
    "            true_watermarks = watermarks[true_labels == 1]\n",
    "            pred_watermarks = torch.round(decoder(encoded_images))\n",
    "            avg_total_bit_acc += torch.mean((pred_watermarks == true_watermarks).float()).item()\n",
    "        pred_wms += wm_tensor_to_str(total_pred_watermarks)\n",
    "    print(f1(tp, tn, fp, fn))\n",
    "    print(avg_pred_bit_acc / len(val_loader))\n",
    "    print(avg_total_bit_acc / len(val_loader))"
   ]
  },
  {
   "cell_type": "code",
   "execution_count": 25,
   "id": "3d6f2a40",
   "metadata": {},
   "outputs": [
    {
     "name": "stdout",
     "output_type": "stream",
     "text": [
      "['2222222222222222222222222222222222222222222222222222222222222222', '2222222222222222222222222222222222222222222222222222222222222222', '2222222222222222222222222222222222222222222222222222222222222222', '2222222222222222222222222222222222222222222222222222222222222222', '2222222222222222222222222222222222222222222222222222222222222222', '2222222222222222222222222222222222222222222222222222222222222222', '2222222222222222222222222222222222222222222222222222222222222222', '2222222222222222222222222222222222222222222222222222222222222222', '2222222222222222222222222222222222222222222222222222222222222222', '2222222222222222222222222222222222222222222222222222222222222222', '2222222222222222222222222222222222222222222222222222222222222222', '2222222222222222222222222222222222222222222222222222222222222222', '2222222222222222222222222222222222222222222222222222222222222222', '2222222222222222222222222222222222222222222222222222222222222222', '2222222222222222222222222222222222222222222222222222222222222222', '2222222222222222222222222222222222222222222222222222222222222222', '2222222222222222222222222222222222222222222222222222222222222222', '2222222222222222222222222222222222222222222222222222222222222222', '2222222222222222222222222222222222222222222222222222222222222222', '2222222222222222222222222222222222222222222222222222222222222222', '2222222222222222222222222222222222222222222222222222222222222222', '2222222222222222222222222222222222222222222222222222222222222222', '2222222222222222222222222222222222222222222222222222222222222222', '2222222222222222222222222222222222222222222222222222222222222222', '2222222222222222222222222222222222222222222222222222222222222222', '2222222222222222222222222222222222222222222222222222222222222222', '2222222222222222222222222222222222222222222222222222222222222222', '2222222222222222222222222222222222222222222222222222222222222222', '2222222222222222222222222222222222222222222222222222222222222222', '2222222222222222222222222222222222222222222222222222222222222222', '2222222222222222222222222222222222222222222222222222222222222222', '2222222222222222222222222222222222222222222222222222222222222222', '1010010111101100001000101110101010010000011101110010111101110011', '1110000100100101010101110110100100111110010010111011000010111001', '0000110010011111110110100101101111110001010111110010010011100000', '0011100010100010010111111010101010100001111100111010000101100010', '0010111100001010111011110101111100110001110000001111000110100101', '0011101100110110011001110011000000011101101000101001000111010011', '0100011000101011010101010101011001111001011100000001100100011110', '1111010010000011100010101110010111111000000101001111000000001111', '1110111101001110110111000001111110110000001100001110000000011101', '0010010110000010000001000001010111010101110111111110110111000101', '1000110011010011000100110011011110011110010110001111000001100111', '0110000111111111110010100000110111110101011100100000110100100101', '0000110011110101001001101000100110101010011101100000001000001101', '0101011110100000101000111010100111011101000010011110111111010101', '0010100110101011111010010101001111100111111011100000001001111001', '1011011111010011111001110010101100110111100110010000011001101001', '1000000111111000010100110101100100001101011001101000111011101101', '0000000100001001001110110011111011001110110110010001010001000101', '1111110101011100101110011001110100101110001110011001111001111100', '1111101101001011111010001101000011001110000101011011000100111000', '1100000000010101001000010011011000000011000111110000101000110101', '0000000101011100100001101111110010011111111111011011110000101100', '0110111001101010011111111111100011100011110011100010111100000101', '1110010001111011110110110010111011010001011011000011000010110101', '1011111100001100010011011111010110100100100111000010101010011011', '1001101010110111100111000001110010100110101101101001111000001110', '1100001000111110010110001000010010111000010101101001011001001001', '1110000010101010111101010001010100111110000111001111010100010100', '0011101101100111101111001001010101011000100100011100100111000011', '0100000000010101101010100110000111010101001110001010011010000110', '0001010101000010000011100001000110100001111000011001111000100100', '0010011111100110010011101110100100000101000001000101111111011100', '2222222222222222222222222222222222222222222222222222222222222222', '2222222222222222222222222222222222222222222222222222222222222222', '2222222222222222222222222222222222222222222222222222222222222222', '2222222222222222222222222222222222222222222222222222222222222222', '2222222222222222222222222222222222222222222222222222222222222222', '2222222222222222222222222222222222222222222222222222222222222222', '2222222222222222222222222222222222222222222222222222222222222222', '2222222222222222222222222222222222222222222222222222222222222222', '2222222222222222222222222222222222222222222222222222222222222222', '2222222222222222222222222222222222222222222222222222222222222222', '2222222222222222222222222222222222222222222222222222222222222222', '2222222222222222222222222222222222222222222222222222222222222222', '2222222222222222222222222222222222222222222222222222222222222222', '2222222222222222222222222222222222222222222222222222222222222222', '2222222222222222222222222222222222222222222222222222222222222222', '2222222222222222222222222222222222222222222222222222222222222222', '2222222222222222222222222222222222222222222222222222222222222222', '2222222222222222222222222222222222222222222222222222222222222222', '2222222222222222222222222222222222222222222222222222222222222222', '2222222222222222222222222222222222222222222222222222222222222222', '2222222222222222222222222222222222222222222222222222222222222222', '2222222222222222222222222222222222222222222222222222222222222222', '2222222222222222222222222222222222222222222222222222222222222222', '2222222222222222222222222222222222222222222222222222222222222222', '2222222222222222222222222222222222222222222222222222222222222222', '2222222222222222222222222222222222222222222222222222222222222222', '2222222222222222222222222222222222222222222222222222222222222222', '2222222222222222222222222222222222222222222222222222222222222222', '2222222222222222222222222222222222222222222222222222222222222222', '2222222222222222222222222222222222222222222222222222222222222222', '2222222222222222222222222222222222222222222222222222222222222222', '2222222222222222222222222222222222222222222222222222222222222222', '1000011111101110011110100100001010111111011101110011110101001110', '0111000101001001100101111010000000010110001110000001101010001111', '1111110101110001110001101101011001111011001011110010010110011000', '1010000010111011000010001111100101111101001110001000000111000111', '1010011001101110111010100011100010011110000100000000111011100111', '1101010100111101110111111100110000101111011010111001101111001110', '0101100001000100001101000001010010111110011010001110001011101010', '1000000111010101011101010000000010010111001111011011110000101001', '0010000011001010110101111001001101111101100111101010001010110001', '1000110001101101110011111101000001110100101110101100001111100000', '0000100101010100110001000011111011011100110011101101101000110101', '1001010100000110010111011001110110011100000101001000011011011111', '1000110001100011101011000111101110100001110001101101000010001011', '1110110111011101000100010011011010111011001010000111010100010010', '0011010000000001110010111101110111101100001110111011111010010110', '1100110111000010000100100111110011101001100111111110100100001111', '1000111001110001011111101100100011011010000100111001010001011111', '0000011111101010111001100011010010000100101001011110010111011000', '0011100001110100011111101010111110100101100001011101101001010001', '1011101000101111000111011110111011001100111010110100110101110100', '0101000101011100001001000100011000100100000000001111110001111001', '0001011001010111110111000000011010100010000001010110010110011011', '1001111001101101010101010101010010011101001011111001010101110001', '1101001010000010010000111001101100001001010001011110001010000011', '0000100110101011000101111000011101010110001011111000100011100011', '1011011000001000010111100000001101101000101111111011111011010111', '1111111001100101101101011111100010110001001111000101010111000000', '1001000110010010011010110110000001111011111111101011101010001010', '0000000001111110111111001001011010000001101001111101101001011010', '0000100100110010110001001100111011110010100000111100010100100011', '1100101011111000100111110001101000000101010110010110001010110011', '0010001110101010000111000101101000001011000111100111111110011111', '2222222222222222222222222222222222222222222222222222222222222222', '2222222222222222222222222222222222222222222222222222222222222222', '2222222222222222222222222222222222222222222222222222222222222222', '2222222222222222222222222222222222222222222222222222222222222222', '2222222222222222222222222222222222222222222222222222222222222222', '2222222222222222222222222222222222222222222222222222222222222222', '2222222222222222222222222222222222222222222222222222222222222222', '2222222222222222222222222222222222222222222222222222222222222222', '2222222222222222222222222222222222222222222222222222222222222222', '2222222222222222222222222222222222222222222222222222222222222222', '2222222222222222222222222222222222222222222222222222222222222222', '2222222222222222222222222222222222222222222222222222222222222222', '2222222222222222222222222222222222222222222222222222222222222222', '2222222222222222222222222222222222222222222222222222222222222222', '2222222222222222222222222222222222222222222222222222222222222222', '2222222222222222222222222222222222222222222222222222222222222222', '2222222222222222222222222222222222222222222222222222222222222222', '2222222222222222222222222222222222222222222222222222222222222222', '2222222222222222222222222222222222222222222222222222222222222222', '2222222222222222222222222222222222222222222222222222222222222222', '2222222222222222222222222222222222222222222222222222222222222222', '2222222222222222222222222222222222222222222222222222222222222222', '2222222222222222222222222222222222222222222222222222222222222222', '2222222222222222222222222222222222222222222222222222222222222222', '2222222222222222222222222222222222222222222222222222222222222222', '2222222222222222222222222222222222222222222222222222222222222222', '2222222222222222222222222222222222222222222222222222222222222222', '2222222222222222222222222222222222222222222222222222222222222222', '2222222222222222222222222222222222222222222222222222222222222222', '2222222222222222222222222222222222222222222222222222222222222222', '2222222222222222222222222222222222222222222222222222222222222222', '2222222222222222222222222222222222222222222222222222222222222222', '0111001010100001101101100111101101111111010100100000010111100000', '1111101010110010001101101110101011110000100001100100001001010011', '0111001001000001001010011111010111100001010110011110111100100011', '1111101100100101010110110000010110000011000100010100010000001111', '0101000101000011010100110110100000111010100101110111110000101000', '0010011111101010111100000110111110001110000000010111001101111100', '0011001001110111000011111011111100100101101011110011100011111010', '0101011100010111010000000110101000000101011011111101110001101110', '1101101000110101010000100000010011110110011001110111000101101001', '1000000011111110100010000001101100100010110110001001110000011110', '0010000000110001010101010111011000100101110111001000000011011010', '1100011001001110111010111100011010001000100110010110010111101011', '1001001010011001001110001001111001101010111000000010000100100101', '0011010011001001101100010110110110101011101001010010101111010100', '0101011010000010101101110001010110001000010011010000010010111010', '1010100011101110010011001010000010001101100100100110001111001101', '0010011010111101001010001010111111110100000110011100000100011011', '1010111001110110110100110111100101111111100100011100110101000011', '1011111101001001100001110101101100001111010110001010100100111011', '0000001100110101010101001101111000100101001010000000010110000111', '0100000010010100010001001001101100011101110111001111101101000010', '0001011010000000101110101000001011110110001010101111100111110000', '1011001101111011000000101000101100001100010001111100110010000001', '0011011101010111000111110101111111100000011110110100001001010000', '0000010001101001001110100011111111101111101000011011011001000001', '1101110110101100001011101100000011111001001100010111110100011111', '1010101000000010011111000100110111010001100001001111010111001011', '1100110101011110101111101000010011000010100010110100100101111000', '0110011100011001000011001101110000000100001001011110111101100101', '1011110110010011011111110001111111110011110100001100111110001000', '1001010011000001000000001100100010010100110000001110000100100011', '0101100101010010100000000101000100010101011100101001001101111011', '2222222222222222222222222222222222222222222222222222222222222222', '2222222222222222222222222222222222222222222222222222222222222222', '2222222222222222222222222222222222222222222222222222222222222222', '2222222222222222222222222222222222222222222222222222222222222222', '2222222222222222222222222222222222222222222222222222222222222222', '2222222222222222222222222222222222222222222222222222222222222222', '2222222222222222222222222222222222222222222222222222222222222222', '2222222222222222222222222222222222222222222222222222222222222222', '2222222222222222222222222222222222222222222222222222222222222222', '2222222222222222222222222222222222222222222222222222222222222222', '2222222222222222222222222222222222222222222222222222222222222222', '2222222222222222222222222222222222222222222222222222222222222222', '2222222222222222222222222222222222222222222222222222222222222222', '2222222222222222222222222222222222222222222222222222222222222222', '2222222222222222222222222222222222222222222222222222222222222222', '2222222222222222222222222222222222222222222222222222222222222222', '2222222222222222222222222222222222222222222222222222222222222222', '2222222222222222222222222222222222222222222222222222222222222222', '2222222222222222222222222222222222222222222222222222222222222222', '2222222222222222222222222222222222222222222222222222222222222222', '2222222222222222222222222222222222222222222222222222222222222222', '2222222222222222222222222222222222222222222222222222222222222222', '2222222222222222222222222222222222222222222222222222222222222222', '2222222222222222222222222222222222222222222222222222222222222222', '2222222222222222222222222222222222222222222222222222222222222222', '2222222222222222222222222222222222222222222222222222222222222222', '2222222222222222222222222222222222222222222222222222222222222222', '2222222222222222222222222222222222222222222222222222222222222222', '2222222222222222222222222222222222222222222222222222222222222222', '2222222222222222222222222222222222222222222222222222222222222222', '2222222222222222222222222222222222222222222222222222222222222222', '2222222222222222222222222222222222222222222222222222222222222222', '1010111001001000000001100001110001001110011001000010111100101000', '1001111011001101000001001001001000011010010011101100100101111000', '1100000111011000111010110100100011001111111011101111011010000101', '0101000111010001110100100011101010000010100001011101010010111110', '0000100011100011011100011000110011101101111000100010000101110101', '1111011001111110001000110001100101010001101111011000100110011110', '0111010011101101001011100101000111111101000000011000100111010000', '0110011000110110001010011100010100010011110001010101111100011100', '1011110101010110101010010011110000010101001011001110000001110100', '1001101101101000010101100100100000000000101100101011111110011010', '0100010101011000011010110100110100010100000110000011110011101111', '0101001111110110000010000110110011001000101111111000001100100010', '1001100110000101100111110000110001110011010011001011110111100001', '1011101010111100001010011100011100100110001010111101010110100001', '1010001110010101100101110110011110101000101100100101111100010110', '1011100101011110011001110010110101111000001011101110111000111010', '1100011111001011101111011111000111011010101001001111000101100101', '0111000011110010100110101011111010101010010101111101111111111001', '1110000000000011001010000000100101000001011100100111000110110101', '0110001100111011100010000011010000011011111111010111010110010110', '0010100100101010101011010110110101000011001011010111010001000000', '1000010010101011110011101100011001110111010110111101001101110101', '1111100101000010010111001101100000110101111101101011010111101110', '0001011111011010101100001101101001111110100011111001010000101101', '0011111010110011011000111110110100111010001101010111111010000011', '0101010001111101110010101111111000011001001100000100011101111000', '1101000001111011111000100100111011010111010000111101100000000100', '1011111100011011111100001010001010100011010100111000111010110010', '1100011001000010110000000111100001011010011100010011011000010111', '0111101011111100111001100101010101100010100010100011000000001000', '0000100110000100101011100111000010011100011100000111111010001110', '1010100010001011101111000010001100101111001000001100101100111010', '2222222222222222222222222222222222222222222222222222222222222222', '2222222222222222222222222222222222222222222222222222222222222222', '2222222222222222222222222222222222222222222222222222222222222222', '2222222222222222222222222222222222222222222222222222222222222222', '2222222222222222222222222222222222222222222222222222222222222222', '2222222222222222222222222222222222222222222222222222222222222222', '2222222222222222222222222222222222222222222222222222222222222222', '2222222222222222222222222222222222222222222222222222222222222222', '2222222222222222222222222222222222222222222222222222222222222222', '2222222222222222222222222222222222222222222222222222222222222222', '2222222222222222222222222222222222222222222222222222222222222222', '2222222222222222222222222222222222222222222222222222222222222222', '2222222222222222222222222222222222222222222222222222222222222222', '2222222222222222222222222222222222222222222222222222222222222222', '2222222222222222222222222222222222222222222222222222222222222222', '2222222222222222222222222222222222222222222222222222222222222222', '2222222222222222222222222222222222222222222222222222222222222222', '2222222222222222222222222222222222222222222222222222222222222222', '2222222222222222222222222222222222222222222222222222222222222222', '2222222222222222222222222222222222222222222222222222222222222222', '2222222222222222222222222222222222222222222222222222222222222222', '2222222222222222222222222222222222222222222222222222222222222222', '2222222222222222222222222222222222222222222222222222222222222222', '2222222222222222222222222222222222222222222222222222222222222222', '2222222222222222222222222222222222222222222222222222222222222222', '2222222222222222222222222222222222222222222222222222222222222222', '2222222222222222222222222222222222222222222222222222222222222222', '2222222222222222222222222222222222222222222222222222222222222222', '2222222222222222222222222222222222222222222222222222222222222222', '2222222222222222222222222222222222222222222222222222222222222222', '2222222222222222222222222222222222222222222222222222222222222222', '2222222222222222222222222222222222222222222222222222222222222222', '1001111110001100100101000010110100010100101110001010011101010001', '1101100111110111010101101110011001111001111011000000100101000011', '1100010101111110111100100011111110011011110000001011110110001110', '0111101001001100000111100110001001000110011101111101001010000100', '1111110011011010000011011100111010100111001100010001110000111001', '0111100010000101011110011011001000001000000110001110111010011010', '1101110100110111000110110000101110011111000111001100101010111000', '1110010101010010001111110011011101011001001010000000100000100101', '1001011111000111110011111101011011001101011101000010001010010001', '1001100001110101011101100110100101101101001111101111010001100100', '1100101011011110011111100000100110000100010110111010001010000100', '1001101001000101110001000010101010011100110110001010110010101011', '1101000100011101111110110110001000111001100101011000101101100101', '0011111000110101100100100100011111100100010100101101101111100000', '0111111000000101011011101111110011110000101110111111010111010111', '0000100011011001101000000110100110111011110100111010010111111111', '1000000000011100110011110100000001111110110000001011011011101111', '0110011000001100101100111010001010000011001001110110111000000110', '1110011001001110100111001100101100111001101100110000001110011100', '1101101010000001011100100010010100100100000100001101101011000110', '0000010001101111001000110010001010100000001111000110001111110101', '1001111110000010101101000011110101000010010000011001011101100101', '0110010010110110110001100000111011011010010100010100010111111000', '0100100111001011100010111010110110111011111000101110100100110110', '1101110111011011111111010010110011111001000110100111101010011010', '1011100100111000100001000010001111100000000100101111101111100110', '1011010111101000001001101010101101011000101101001000000101011000', '0010011001101011101011100010101111010111010010010010001101101100', '0011000110101110011101000101000000000011100010011010100011111011', '1011111010110100010110101101101011001100001010000110100110010010', '0000001010011001010001100110011000110000100110000000111010101111', '1000100101110001010111000010011000001100100101101111011100110011', '2222222222222222222222222222222222222222222222222222222222222222', '2222222222222222222222222222222222222222222222222222222222222222', '2222222222222222222222222222222222222222222222222222222222222222', '2222222222222222222222222222222222222222222222222222222222222222', '2222222222222222222222222222222222222222222222222222222222222222', '2222222222222222222222222222222222222222222222222222222222222222', '2222222222222222222222222222222222222222222222222222222222222222', '2222222222222222222222222222222222222222222222222222222222222222', '2222222222222222222222222222222222222222222222222222222222222222', '2222222222222222222222222222222222222222222222222222222222222222', '2222222222222222222222222222222222222222222222222222222222222222', '2222222222222222222222222222222222222222222222222222222222222222', '2222222222222222222222222222222222222222222222222222222222222222', '2222222222222222222222222222222222222222222222222222222222222222', '2222222222222222222222222222222222222222222222222222222222222222', '2222222222222222222222222222222222222222222222222222222222222222', '2222222222222222222222222222222222222222222222222222222222222222', '2222222222222222222222222222222222222222222222222222222222222222', '2222222222222222222222222222222222222222222222222222222222222222', '2222222222222222222222222222222222222222222222222222222222222222', '2222222222222222222222222222222222222222222222222222222222222222', '2222222222222222222222222222222222222222222222222222222222222222', '2222222222222222222222222222222222222222222222222222222222222222', '2222222222222222222222222222222222222222222222222222222222222222', '2222222222222222222222222222222222222222222222222222222222222222', '2222222222222222222222222222222222222222222222222222222222222222', '2222222222222222222222222222222222222222222222222222222222222222', '2222222222222222222222222222222222222222222222222222222222222222', '2222222222222222222222222222222222222222222222222222222222222222', '2222222222222222222222222222222222222222222222222222222222222222', '2222222222222222222222222222222222222222222222222222222222222222', '2222222222222222222222222222222222222222222222222222222222222222', '0111001011111101110111011100111010000010011011010100100010111111', '1001000111011011100010011000111010011111100111010000000111100111', '0101001111010101001101001111000110001101100100010011011111111110', '0011101011000100010011001010101110001010010000001111000100000100', '0110110110010010011100111110000100110100011010011001101100010011', '0111101110011101111001111100011110000111111110011101001101101110', '1111000010010101110000010111101001011100110011011010001001100110', '1001100001001101010010000001000010101110000111010011001110111010', '1100011010010001001001111011010101010000000011111001011111111000', '0011001011101101000011111001100010101110101111011110111100100010', '0100000001000001110101111000001100110111100101101010101001010010', '1011100001100100010101011110011010001100100011010110011011011110', '1000111010001001010110110010000111001001000011110011111000111000', '1111001110110101100101100011110011111100000011100110010001101100', '0001001001100000111000000111000010001001010110011011000000111100', '1100011001001110000001011111001101100010110010011001110000100101', '1001110010111001111010001100111011110110000001100111100010011011', '0110101011110010111011111001000010011100101110010000011100000100', '0110110101101100000010110110001010010010110011010110001011000111', '1000001111100110111111110000001011111100101110010111101000011101', '1011111111100111110100001101010101111100010000111011010111011000', '1001101111110110100110010010110101110110101110111010101110000010', '0100101111100111011011001111010001110111010010110111111101101010', '1110011110101000110010000101000001001110010011111111110001100010', '1000001111001011011101110011011111111111010100011110011110001101', '0011101101100101001001011001010100010111011010011011100110000111', '0101011011101011010011010011111011111001101000101011011000011101', '1000111000001011111011011011010101000001001100001110010110000000', '1110101111100001111010001100000100010110110000101111110110000000', '0011111111010001110111011010010111101101111001001000111000011010', '0100000010000101001000011000110010111011010000001101101110110100', '1110100000011101010001011110000101110001010000101011100111111001', '2222222222222222222222222222222222222222222222222222222222222222', '2222222222222222222222222222222222222222222222222222222222222222', '2222222222222222222222222222222222222222222222222222222222222222', '2222222222222222222222222222222222222222222222222222222222222222', '2222222222222222222222222222222222222222222222222222222222222222', '2222222222222222222222222222222222222222222222222222222222222222', '2222222222222222222222222222222222222222222222222222222222222222', '2222222222222222222222222222222222222222222222222222222222222222', '2222222222222222222222222222222222222222222222222222222222222222', '2222222222222222222222222222222222222222222222222222222222222222', '2222222222222222222222222222222222222222222222222222222222222222', '2222222222222222222222222222222222222222222222222222222222222222', '2222222222222222222222222222222222222222222222222222222222222222', '2222222222222222222222222222222222222222222222222222222222222222', '2222222222222222222222222222222222222222222222222222222222222222', '2222222222222222222222222222222222222222222222222222222222222222', '2222222222222222222222222222222222222222222222222222222222222222', '2222222222222222222222222222222222222222222222222222222222222222', '2222222222222222222222222222222222222222222222222222222222222222', '2222222222222222222222222222222222222222222222222222222222222222', '2222222222222222222222222222222222222222222222222222222222222222', '2222222222222222222222222222222222222222222222222222222222222222', '2222222222222222222222222222222222222222222222222222222222222222', '2222222222222222222222222222222222222222222222222222222222222222', '2222222222222222222222222222222222222222222222222222222222222222', '2222222222222222222222222222222222222222222222222222222222222222', '2222222222222222222222222222222222222222222222222222222222222222', '2222222222222222222222222222222222222222222222222222222222222222', '2222222222222222222222222222222222222222222222222222222222222222', '2222222222222222222222222222222222222222222222222222222222222222', '2222222222222222222222222222222222222222222222222222222222222222', '2222222222222222222222222222222222222222222222222222222222222222', '0101000001110011111010001110010101000111100000101110111110000001', '0101001000011100011111101100111011001100100001001100000111101010', '1000001000000011010100111000100001001100110100100001111111000010', '0010111100100001111111001101110001111000101110100000101000101110', '1001111100100001101000010000001100111000101110000110000011111100', '1000111011011100100111111011001111100000110100101000010101111001', '0111000000110010011000111110111000101011100000100010100000001011', '0110011001100110110010110111100100000000010001101001100001001101', '0010111011000001100011000000000000000011100001000010111110001011', '0100110111110101100001001111001101110000011110110011011001101001', '0110101011110011000110100001011011011000111010001000011000000110', '1100000110100001101110111100111010101110011000011111001011010100', '1001000000010110101101100100011110101001001000110001110000101101', '1110010010010011111101000110110001110011100110001011011110001110', '1010111010101101111101110100010001001010110000110000111011100100', '1111110000111010110110111110100101100011001110000011011010111010', '0010010000000100001011110001100011011100001010010101110101011100', '0101001000001111011001100101101110100000101010100111101010110011', '1100101110000011011111001010011101110111111111110011101000111110', '1010001001000000011100001011010110011010010111010111011011011000', '1111110001111011000111011001110111111101000001001001001010110000', '0111011010111111101011110010110101111101111100111110100110100101', '0000100111110011010010011001100000100100100100000011010001001011', '0011000001111010100101111100010001011010101010110011111110100111', '1011000101101011111000011101111000110110110101001010011000110000', '0010010101101100011011000100011111001110111010111110011011011001', '0010010000100001001011000110010001111011100010000011010111111101', '1001010010010001110001100011000000101011010000010101100110110110', '1110011110010110110011010011000100100100011100111001001110000010', '1010000110010111000100111111001111101101110110100111110111111001', '1111101001000010000010100001111110111010011001101011101010111010', '0100001011001011101000110001100100010101011001011000110001100111', '2222222222222222222222222222222222222222222222222222222222222222', '2222222222222222222222222222222222222222222222222222222222222222', '2222222222222222222222222222222222222222222222222222222222222222', '2222222222222222222222222222222222222222222222222222222222222222', '2222222222222222222222222222222222222222222222222222222222222222', '2222222222222222222222222222222222222222222222222222222222222222', '2222222222222222222222222222222222222222222222222222222222222222', '2222222222222222222222222222222222222222222222222222222222222222', '2222222222222222222222222222222222222222222222222222222222222222', '2222222222222222222222222222222222222222222222222222222222222222', '2222222222222222222222222222222222222222222222222222222222222222', '2222222222222222222222222222222222222222222222222222222222222222', '2222222222222222222222222222222222222222222222222222222222222222', '2222222222222222222222222222222222222222222222222222222222222222', '2222222222222222222222222222222222222222222222222222222222222222', '2222222222222222222222222222222222222222222222222222222222222222', '2222222222222222222222222222222222222222222222222222222222222222', '2222222222222222222222222222222222222222222222222222222222222222', '2222222222222222222222222222222222222222222222222222222222222222', '2222222222222222222222222222222222222222222222222222222222222222', '2222222222222222222222222222222222222222222222222222222222222222', '2222222222222222222222222222222222222222222222222222222222222222', '2222222222222222222222222222222222222222222222222222222222222222', '2222222222222222222222222222222222222222222222222222222222222222', '2222222222222222222222222222222222222222222222222222222222222222', '2222222222222222222222222222222222222222222222222222222222222222', '2222222222222222222222222222222222222222222222222222222222222222', '2222222222222222222222222222222222222222222222222222222222222222', '2222222222222222222222222222222222222222222222222222222222222222', '2222222222222222222222222222222222222222222222222222222222222222', '2222222222222222222222222222222222222222222222222222222222222222', '2222222222222222222222222222222222222222222222222222222222222222', '0110110111111011111010111011110001010001101110001110000101100000', '1100011100110010101111100101100011101101101111001111011111100010', '0011010110011101000000001010101000110101111011111011011011111011', '1001001000000101110100010101000100100001111111110011111011110001', '1101111011101011111011010000000011100010110100001010001110100010', '0100010100001011011010000111100101001010011100110010101010001100', '1000010011101001001111111001010000001011000011000010100000110110', '0000110011000110000100101100111001001010011101101110101001011101', '1110001101011100000111001101010000100101100101100011111101110101', '1101011000110001110100001011100011101110100011000111100000110001', '1001101111001011111101110111111000111111011001111110110100101110', '1010001011111111110001010011111100110010001101100010101001100100', '0100110110100010111000001100101101001011101010111001010000001101', '1111101000100101111011010011011001111100111010001001111001101110', '0110011110110101000111100011111000110101100000101110100110110010', '1010011010011000100100011000111000000111101100010110110010001010', '0100100110000101011111100010001111100101000001001110110011010111', '0011110101000011000100110010111010001010111111000010001001110011', '0101000000001110010100110111100010001011110010101010110001001010', '1001110010011100000100000001111101010101000110100101100100101000', '0100011100010101111010100001100111100000001001001010110010110110', '1010111100000101110110000100001110101000101010111001000111101110', '0010110011011101110001110111100001110110110110001011100111100001', '1110011011010001001000000101001010110110110111000110101101111000', '1011010001001011110101011000111011100100000010100000011010111111', '0000101001011001111100111100000100011000001111011000001001011111', '0010111001000110000110010100101111100100110000000011100111010110', '0010000101010000100100111101010001011011010010011110101100011000', '1110001011000001010101010100111001010011101110111111101110010010', '0111011001110100110100010111100000011000000110000101110001010010', '0000001110101111100101000110101010000001111100101010100101111000', '1011000001111000010100001100100011001110111001010010100111111101']\n",
      "['2222222222222222222222222222222222222222222222222222222222222222', '2222222222222222222222222222222222222222222222222222222222222222', '2222222222222222222222222222222222222222222222222222222222222222', '2222222222222222222222222222222222222222222222222222222222222222', '2222222222222222222222222222222222222222222222222222222222222222', '2222222222222222222222222222222222222222222222222222222222222222', '2222222222222222222222222222222222222222222222222222222222222222', '2222222222222222222222222222222222222222222222222222222222222222', '2222222222222222222222222222222222222222222222222222222222222222', '2222222222222222222222222222222222222222222222222222222222222222', '2222222222222222222222222222222222222222222222222222222222222222', '2222222222222222222222222222222222222222222222222222222222222222', '2222222222222222222222222222222222222222222222222222222222222222', '2222222222222222222222222222222222222222222222222222222222222222', '2222222222222222222222222222222222222222222222222222222222222222', '2222222222222222222222222222222222222222222222222222222222222222', '2222222222222222222222222222222222222222222222222222222222222222', '2222222222222222222222222222222222222222222222222222222222222222', '2222222222222222222222222222222222222222222222222222222222222222', '2222222222222222222222222222222222222222222222222222222222222222', '2222222222222222222222222222222222222222222222222222222222222222', '2222222222222222222222222222222222222222222222222222222222222222', '2222222222222222222222222222222222222222222222222222222222222222', '2222222222222222222222222222222222222222222222222222222222222222', '2222222222222222222222222222222222222222222222222222222222222222', '2222222222222222222222222222222222222222222222222222222222222222', '2222222222222222222222222222222222222222222222222222222222222222', '2222222222222222222222222222222222222222222222222222222222222222', '2222222222222222222222222222222222222222222222222222222222222222', '2222222222222222222222222222222222222222222222222222222222222222', '2222222222222222222222222222222222222222222222222222222222222222', '2222222222222222222222222222222222222222222222222222222222222222', '1010010111101100001000101110101010010000011101110010111101110011', '1110000100100101010101110110100100111110010010111011000010111001', '0000110010011111110110100101101111110001010111110010010011100000', '0011100010100010010111111010101010100001111100111010000101100010', '0010111100001010111011110101111100110001110000001111000110100101', '0011101100110110011001110011000000011101101000101001000111010011', '0100011000101011010101010101011001111001011100000001100100011110', '1111010010000011100010101110010111111000000101001111000000001111', '1110111101001110110111000001111110110000001100001110000000011101', '0010010110000010000001000001010111010101110111111110110111000101', '1000110011010011000100110011011110011110010110001111000001100111', '0110000111111111110010100000110111110101011100100000110100100101', '0000110011110101001001101000100110101010011101100000001000001101', '0101011110100000101000111010100111011101000010011110111111010101', '0010100110101011111010010101001111100111111011100000001001111001', '1011011111010011111001110010101100110111100110010000011001101001', '1000000111111000010100110101100100001101011001101000111011101101', '0000000100001001001110110011111011001110110110010001010001000101', '1111110101011100101110011001110100101110001110011001111001111100', '1111101101001011111010001101000011001110000101011011000100111000', '1100000000010101001000010011011000000011000111110000101000110101', '0000000101011100100001101111110010011111111111011011110000101100', '0110111001101010011111111111100011100011110011100010111100000101', '1110010001111011110110110010111011010001011011000011000010110101', '1011111100001100010011011111010111100100100111000010101010011011', '1001101010110111100111000001110010100110101101101001111000001110', '1100001000111110010110001000010010111000010101101001011001001001', '1110000010101010111101010001010100111110000111001111010100010100', '0011101101100111101111001001010101011000100100011100100111000011', '0100000000010101101010100110000111010101001110001010011010000110', '0001010101000010000011100001000110100001111000011001111000100100', '0010011111100110010011101110100100000101000001000101111111011100', '2222222222222222222222222222222222222222222222222222222222222222', '2222222222222222222222222222222222222222222222222222222222222222', '2222222222222222222222222222222222222222222222222222222222222222', '2222222222222222222222222222222222222222222222222222222222222222', '2222222222222222222222222222222222222222222222222222222222222222', '2222222222222222222222222222222222222222222222222222222222222222', '2222222222222222222222222222222222222222222222222222222222222222', '2222222222222222222222222222222222222222222222222222222222222222', '2222222222222222222222222222222222222222222222222222222222222222', '2222222222222222222222222222222222222222222222222222222222222222', '2222222222222222222222222222222222222222222222222222222222222222', '2222222222222222222222222222222222222222222222222222222222222222', '2222222222222222222222222222222222222222222222222222222222222222', '2222222222222222222222222222222222222222222222222222222222222222', '2222222222222222222222222222222222222222222222222222222222222222', '2222222222222222222222222222222222222222222222222222222222222222', '2222222222222222222222222222222222222222222222222222222222222222', '2222222222222222222222222222222222222222222222222222222222222222', '2222222222222222222222222222222222222222222222222222222222222222', '2222222222222222222222222222222222222222222222222222222222222222', '2222222222222222222222222222222222222222222222222222222222222222', '2222222222222222222222222222222222222222222222222222222222222222', '2222222222222222222222222222222222222222222222222222222222222222', '2222222222222222222222222222222222222222222222222222222222222222', '2222222222222222222222222222222222222222222222222222222222222222', '2222222222222222222222222222222222222222222222222222222222222222', '2222222222222222222222222222222222222222222222222222222222222222', '2222222222222222222222222222222222222222222222222222222222222222', '2222222222222222222222222222222222222222222222222222222222222222', '2222222222222222222222222222222222222222222222222222222222222222', '2222222222222222222222222222222222222222222222222222222222222222', '2222222222222222222222222222222222222222222222222222222222222222', '1000011111101110011110100100001010111111011101110011110101001110', '0111000101001001100101111010000000010110001110000001101010001111', '1111110101110001110001101101011001111011001011110010010110011000', '1010000010111011000010001111100101111101001110001000000111000111', '1010011001101110111010100011100010011110000100000000111011100111', '1101010100111101110111111100110000101111011010111001101111001110', '0101100001000100001101000001010010111110011010001110001011101010', '1000000111010101011101010000000010010111001111011011110000101001', '0010000011001010110101111001001101111101100111101010001010110001', '1000110001101101110011111101000001110100101110101100001111100000', '0000100101010100110001000011111011011100110011101101101000110101', '1001010100000110010111011001110110011100000101001000011011011111', '1000110001100011101011000111101110100001110001101101000010001011', '1110110111011101000100010011011010111011001010000111010100010010', '0011010000000001110010111101110111101100001110111011111010010110', '1100110111000010000100100111110011101001100111111110100100001111', '1000111001110001011111101100100011011010000100111001010001011111', '0000011111101010111001100011010010000100101001011110010111011000', '0011100001110100011111101010111110100101100001011101101001010001', '1011101000101111000111011110111011001100111010110100110101110100', '0101000101011100001001000100011000100100000000001111010001111001', '0001011001010111110111000000011010100010000001010110010110011011', '1101111001101101010101010101010010011101001011111001010101110001', '1101001010000010010000111001101100001001010001011110001010000011', '0000100110101011000101111000011101010110001011111000100011100011', '1011011000001000010111100000001101101000101111111011111011010111', '1111111001100101101101011111100010110001101111000101010111000000', '1001000110010010011010110110000001111011111111101011101010001010', '0000000001111110111111001001011010000001101001111101101001011010', '0000100100110010110001001100111011110010100000111100010100100011', '1100101011111000100111110001101000000101010110010110001010110011', '0010001110101010000111000101101000001011000111100111111110011111', '2222222222222222222222222222222222222222222222222222222222222222', '2222222222222222222222222222222222222222222222222222222222222222', '2222222222222222222222222222222222222222222222222222222222222222', '2222222222222222222222222222222222222222222222222222222222222222', '2222222222222222222222222222222222222222222222222222222222222222', '2222222222222222222222222222222222222222222222222222222222222222', '2222222222222222222222222222222222222222222222222222222222222222', '2222222222222222222222222222222222222222222222222222222222222222', '2222222222222222222222222222222222222222222222222222222222222222', '2222222222222222222222222222222222222222222222222222222222222222', '2222222222222222222222222222222222222222222222222222222222222222', '2222222222222222222222222222222222222222222222222222222222222222', '2222222222222222222222222222222222222222222222222222222222222222', '2222222222222222222222222222222222222222222222222222222222222222', '2222222222222222222222222222222222222222222222222222222222222222', '2222222222222222222222222222222222222222222222222222222222222222', '2222222222222222222222222222222222222222222222222222222222222222', '2222222222222222222222222222222222222222222222222222222222222222', '2222222222222222222222222222222222222222222222222222222222222222', '2222222222222222222222222222222222222222222222222222222222222222', '2222222222222222222222222222222222222222222222222222222222222222', '2222222222222222222222222222222222222222222222222222222222222222', '2222222222222222222222222222222222222222222222222222222222222222', '2222222222222222222222222222222222222222222222222222222222222222', '2222222222222222222222222222222222222222222222222222222222222222', '2222222222222222222222222222222222222222222222222222222222222222', '2222222222222222222222222222222222222222222222222222222222222222', '2222222222222222222222222222222222222222222222222222222222222222', '2222222222222222222222222222222222222222222222222222222222222222', '2222222222222222222222222222222222222222222222222222222222222222', '2222222222222222222222222222222222222222222222222222222222222222', '2222222222222222222222222222222222222222222222222222222222222222', '0111001010100001101101100111101101111111010100100000010111100000', '1111101010110010001101101110101011110000100001100100001001010011', '0111001001000001001010011111010111100001010110011110111100100011', '1111101100100101010110110000010110000011000100010100010000001111', '0101000101000011010100110110100000111010100101100111010000101000', '0010111011101010111100000110111110001110000000010111001101111100', '0011001001110111000011111011111100100101101011110011100011111010', '0101011100010111010000000110101000000101011011111101110001101110', '1101101000110101010000100000010011110110011001110111000101101001', '1000000011111110100010000001101100100010110110001001110000011110', '0010000000110001010101010111011000100101110111001000000011011010', '1100011001001110111110111100011010001000100110010110010111101011', '1001001010011001001110001001111001101010111000000010000100100101', '0011010011001001101100010110110110101011101001010010101111010100', '0101011010000010101101110001010110001000010011010000010010111010', '1010100011101110010011001010000010001101100100100110001111001101', '0010011010111101001010001010111111110100000110011100000100011011', '1010111001110110110100110111100101111111100100011100110101000011', '1011111101001001100001110101101100001111010110001010100100111011', '0000001100110101010101001101111000100101001010000000010110000111', '0100000010010100010001001001101100011101110111001111101101000010', '0001011010000000101110101000001011110110001010101111100111110000', '1011001101111011000000101000101100001100010001111100110010000001', '0011011101010111000111110101111111100000011110110100001001010000', '0000010001101001001110100011111111101111101000011011011001000001', '1101110110101100001011101100000011111011001100010111110100011111', '1010101000000010011111000100110111010001100001001111010111001011', '1100110101011110101111101000010011000010100010110100100101111000', '0110011100011001000011001101110000000100001101011110111101100101', '1011110110010011011111110001111111110011110100001100111110001000', '1001010011000001000000001100100010010100110000001110000100100011', '0101100101010010100000000101000100010101011100101001001101110011', '2222222222222222222222222222222222222222222222222222222222222222', '2222222222222222222222222222222222222222222222222222222222222222', '2222222222222222222222222222222222222222222222222222222222222222', '2222222222222222222222222222222222222222222222222222222222222222', '2222222222222222222222222222222222222222222222222222222222222222', '2222222222222222222222222222222222222222222222222222222222222222', '2222222222222222222222222222222222222222222222222222222222222222', '2222222222222222222222222222222222222222222222222222222222222222', '2222222222222222222222222222222222222222222222222222222222222222', '2222222222222222222222222222222222222222222222222222222222222222', '2222222222222222222222222222222222222222222222222222222222222222', '2222222222222222222222222222222222222222222222222222222222222222', '2222222222222222222222222222222222222222222222222222222222222222', '2222222222222222222222222222222222222222222222222222222222222222', '2222222222222222222222222222222222222222222222222222222222222222', '2222222222222222222222222222222222222222222222222222222222222222', '2222222222222222222222222222222222222222222222222222222222222222', '2222222222222222222222222222222222222222222222222222222222222222', '2222222222222222222222222222222222222222222222222222222222222222', '2222222222222222222222222222222222222222222222222222222222222222', '2222222222222222222222222222222222222222222222222222222222222222', '2222222222222222222222222222222222222222222222222222222222222222', '2222222222222222222222222222222222222222222222222222222222222222', '2222222222222222222222222222222222222222222222222222222222222222', '2222222222222222222222222222222222222222222222222222222222222222', '2222222222222222222222222222222222222222222222222222222222222222', '2222222222222222222222222222222222222222222222222222222222222222', '2222222222222222222222222222222222222222222222222222222222222222', '2222222222222222222222222222222222222222222222222222222222222222', '2222222222222222222222222222222222222222222222222222222222222222', '2222222222222222222222222222222222222222222222222222222222222222', '2222222222222222222222222222222222222222222222222222222222222222', '1010111001001000000001100001110001001110011001000010111100101000', '1001111011001101000001001001001000011010010011101100100101111000', '1100000111011000111010110100100011001111111011101111011010000101', '0101000111010001110100100011101010000010100001011101010010111110', '0000100011100011011100011000110011101101111000100010000101110101', '1111011001111110001000110001100101010001101111011000100110011110', '0111010011101101001011100101000111111101000000011000100111010000', '0110011000110110001010011100010100010011110001010101111100011100', '1011110101010110101010010011110000010101001011001110000001110100', '1001101101101000010101100100100000000000101100101011111110011010', '0100010101011000011010110100110100010100000110000011110011101111', '0101001111110110000010000110110011001000101111111000001100100010', '1001100110000101100111110000110001110011010011001011110111100001', '1011101010111100001010011100011100100110001010111101010110100001', '1010001110010101100101110110011110101000101100100101111100010110', '1011100101011110011001110010110101111000001011101110111000111010', '1100011111001011101111011111000111011010101001001111000101100101', '0111000011110010100110101011111010101010010101111101111111111001', '1110000000000011001010000000100101000001011100100111000110110101', '0110001100111011100010000011010000011011111111010111010110010110', '0010100100101010101011010110110101000011001011010111010001000000', '1000010010101011110011101100011001110111010110111101001101110101', '1111100101000010010111001101100000110101111101101011010111101110', '0001011111011010101100001101101001111110100011111001010000101101', '0011111010110011011000111110110100111010001101010111111010000011', '0101010001111101110010101111111000011001001100000100011101111000', '1101000001111011111000100100111011010111010000111101100000000100', '1011111100011011111100001010001010100011010100111000111010110010', '1100011001000010110000000111100001011010011100010011011000010111', '0111101011111100111001100101010101100010100010100011000000001000', '0000100110000100101011100111000010011100011100000111111010001110', '1010100010001011101111000010001100101111001000001100101100111010', '2222222222222222222222222222222222222222222222222222222222222222', '2222222222222222222222222222222222222222222222222222222222222222', '2222222222222222222222222222222222222222222222222222222222222222', '2222222222222222222222222222222222222222222222222222222222222222', '2222222222222222222222222222222222222222222222222222222222222222', '2222222222222222222222222222222222222222222222222222222222222222', '2222222222222222222222222222222222222222222222222222222222222222', '2222222222222222222222222222222222222222222222222222222222222222', '2222222222222222222222222222222222222222222222222222222222222222', '2222222222222222222222222222222222222222222222222222222222222222', '2222222222222222222222222222222222222222222222222222222222222222', '2222222222222222222222222222222222222222222222222222222222222222', '2222222222222222222222222222222222222222222222222222222222222222', '2222222222222222222222222222222222222222222222222222222222222222', '2222222222222222222222222222222222222222222222222222222222222222', '2222222222222222222222222222222222222222222222222222222222222222', '2222222222222222222222222222222222222222222222222222222222222222', '2222222222222222222222222222222222222222222222222222222222222222', '2222222222222222222222222222222222222222222222222222222222222222', '2222222222222222222222222222222222222222222222222222222222222222', '2222222222222222222222222222222222222222222222222222222222222222', '2222222222222222222222222222222222222222222222222222222222222222', '2222222222222222222222222222222222222222222222222222222222222222', '2222222222222222222222222222222222222222222222222222222222222222', '2222222222222222222222222222222222222222222222222222222222222222', '2222222222222222222222222222222222222222222222222222222222222222', '2222222222222222222222222222222222222222222222222222222222222222', '2222222222222222222222222222222222222222222222222222222222222222', '2222222222222222222222222222222222222222222222222222222222222222', '2222222222222222222222222222222222222222222222222222222222222222', '2222222222222222222222222222222222222222222222222222222222222222', '2222222222222222222222222222222222222222222222222222222222222222', '1001111110001100100101000010110100010100101110001010011101010001', '1101100111110111010101101110011001111001111011000000100101000011', '1100010101111110111100100011111110011011110000001011110110001110', '0111101001001100000111100110001001000110011101111101001010000100', '1111110011011010000011011100111010100111001100010001110000111001', '0111100010000101011110011011001000001000000110001110111010011010', '1101110100110111000110110000101110011111000111001100101010111000', '1110010101010010001111110011011101011001001010000000100000100101', '1001011111000111110011111101011011001101011101000010001010010001', '1001100001110101011101100110100101101101001111101111010001100100', '1100101011011110011111100000100110000100010110111010001010000100', '1001101001000101110001000010101010011100110110001010110010101011', '1101000100011101111110110110001000111001100101011000101101100101', '0011111000110101100100100100011111100100010100101101101111100000', '0111111000000101011011101111110011110000101110111111010111010111', '0000100011011001101000000110100110111011110100111010010111111111', '1000000000011100110011110100000001111110110000001011011011101111', '0110011000001100101100111010001010000011001001110110111000000110', '1110011001001110100111001100101100111001101100110000001110011100', '1101101010000001011100100010010100100100000100001101101011000110', '0000010001101111001000110010001010100000001111000110001111110101', '1001111110000010101101000011110101000010010000011001011101100101', '0110010010110110110001100000111011011010010100010100010111111000', '0101100111001011100010111010110110111011111000101110100100110110', '1101110111011011111111010010110011111001000110100111101010011010', '1011100100111000100001000010001111100000000100101111101111100110', '1011010111101000001001101010101101011000101101001000000101011000', '0010011001101011101011100010101111010111010010010010001101101100', '0011000110101110011101000101000000000011100010011010100011111011', '1011111010110100010110101101101011001100001010000110100110010010', '0000001010011001010001100110011000110000100110000000111010101111', '1000100101110001010111000010011000001100100101101111011100110011', '2222222222222222222222222222222222222222222222222222222222222222', '2222222222222222222222222222222222222222222222222222222222222222', '2222222222222222222222222222222222222222222222222222222222222222', '2222222222222222222222222222222222222222222222222222222222222222', '2222222222222222222222222222222222222222222222222222222222222222', '2222222222222222222222222222222222222222222222222222222222222222', '2222222222222222222222222222222222222222222222222222222222222222', '2222222222222222222222222222222222222222222222222222222222222222', '2222222222222222222222222222222222222222222222222222222222222222', '2222222222222222222222222222222222222222222222222222222222222222', '2222222222222222222222222222222222222222222222222222222222222222', '2222222222222222222222222222222222222222222222222222222222222222', '2222222222222222222222222222222222222222222222222222222222222222', '2222222222222222222222222222222222222222222222222222222222222222', '2222222222222222222222222222222222222222222222222222222222222222', '2222222222222222222222222222222222222222222222222222222222222222', '2222222222222222222222222222222222222222222222222222222222222222', '2222222222222222222222222222222222222222222222222222222222222222', '2222222222222222222222222222222222222222222222222222222222222222', '2222222222222222222222222222222222222222222222222222222222222222', '2222222222222222222222222222222222222222222222222222222222222222', '2222222222222222222222222222222222222222222222222222222222222222', '2222222222222222222222222222222222222222222222222222222222222222', '2222222222222222222222222222222222222222222222222222222222222222', '2222222222222222222222222222222222222222222222222222222222222222', '2222222222222222222222222222222222222222222222222222222222222222', '2222222222222222222222222222222222222222222222222222222222222222', '2222222222222222222222222222222222222222222222222222222222222222', '2222222222222222222222222222222222222222222222222222222222222222', '2222222222222222222222222222222222222222222222222222222222222222', '2222222222222222222222222222222222222222222222222222222222222222', '2222222222222222222222222222222222222222222222222222222222222222', '0111001011111101110111011100111010000010011011010100100010111111', '1001000111011011100010011001111010011111100111010000000111100111', '0101001111010101001101001111000111001101100100010011011111111110', '0011101011000100010011001010101110001010010000001111000100000100', '0110110110010010011100111110000100110100011010011001101100010011', '0111101110011101111001111100011110000111111110011101001101101110', '1111000010010101110000010111101001011100110011011010001001100110', '1001100001001101010010000001000010101110000111010011001110111010', '1100011010010001001001111011010101010000000011111001011111111000', '0011001011101101000011111001100010101110101111011110111100100010', '0100000001000001110101111000001100110111100101101010101001010010', '1011100001100100010101011110011010011100100011010110011011011110', '1000111010001001010110110010000111001001000011110011111000111000', '1111001110110101100101100011110011111100000011100110010001101100', '0001001001100000111000000111000010001001010110011011000000111100', '1100011001001110000001011111001101100010110010011001110000100101', '1001110010111001111010001100111011110110000001100111100010011011', '0110101011110010111011111001000010011100101110010000011100000100', '0100110101101100000010110110001010010010110010010110001011000111', '1000001111100110111111110000001011111100101110010111101000011101', '1011111111100111110100001101010101111100010000111011010111011000', '1001101111110110100110010010110101110110101110111010101110100010', '0100101111100111011011001111010001110111010010110111111101101010', '1110011110101000110010000101000001001110010011111111110001100010', '1000001111001011011101110011011111111111010100011110011110001101', '0011101101100101001001011001010100010111011010011011100110000111', '0101011011101011010011010011111011111001101000101011011000011101', '1000111010001011111011011011010101000001001100001110010110000000', '1110101111100001111010001100000100010110110000101111110110000000', '0011111111010001110111011010110111101101111001001000111000011010', '0100000010000101001000011000110010111011010000001101101110110100', '1110100000011101010001011110000101110001010000101011100111111001', '2222222222222222222222222222222222222222222222222222222222222222', '2222222222222222222222222222222222222222222222222222222222222222', '2222222222222222222222222222222222222222222222222222222222222222', '2222222222222222222222222222222222222222222222222222222222222222', '2222222222222222222222222222222222222222222222222222222222222222', '2222222222222222222222222222222222222222222222222222222222222222', '2222222222222222222222222222222222222222222222222222222222222222', '2222222222222222222222222222222222222222222222222222222222222222', '2222222222222222222222222222222222222222222222222222222222222222', '2222222222222222222222222222222222222222222222222222222222222222', '2222222222222222222222222222222222222222222222222222222222222222', '2222222222222222222222222222222222222222222222222222222222222222', '2222222222222222222222222222222222222222222222222222222222222222', '2222222222222222222222222222222222222222222222222222222222222222', '2222222222222222222222222222222222222222222222222222222222222222', '2222222222222222222222222222222222222222222222222222222222222222', '2222222222222222222222222222222222222222222222222222222222222222', '2222222222222222222222222222222222222222222222222222222222222222', '2222222222222222222222222222222222222222222222222222222222222222', '2222222222222222222222222222222222222222222222222222222222222222', '2222222222222222222222222222222222222222222222222222222222222222', '2222222222222222222222222222222222222222222222222222222222222222', '2222222222222222222222222222222222222222222222222222222222222222', '2222222222222222222222222222222222222222222222222222222222222222', '2222222222222222222222222222222222222222222222222222222222222222', '2222222222222222222222222222222222222222222222222222222222222222', '2222222222222222222222222222222222222222222222222222222222222222', '2222222222222222222222222222222222222222222222222222222222222222', '2222222222222222222222222222222222222222222222222222222222222222', '2222222222222222222222222222222222222222222222222222222222222222', '2222222222222222222222222222222222222222222222222222222222222222', '2222222222222222222222222222222222222222222222222222222222222222', '0101010001110011111010001110010101000111100000101110111110000001', '0101001000011100011111101100111011001100100001001100000111101010', '1000001000000011010100111000100001001100110100100001111111000010', '0010111100100001111111001101110001111000101110100000101000101110', '1001111100100001101000010000001100111000101110000110000011111100', '1000111011011100100111111011001111100000110100101000010101111001', '0111000000110010011000111110111000101011100000100010100000001011', '0110011001100110110010110111100100000000010001101001100001001101', '0010111011000001100011000000000000000011100001000010111110001011', '0100110111110101100001001111001101110000011110110011011001101001', '0110101011110011000110100001011011011000111010001000011000000110', '1100000110100001101110111100111010101110011000011111001011010100', '1001000000010110101101100100011110101001001000110001110000101101', '1110010010010011111101000110110001110011100110001011011110001110', '1010111010101101111101110100010001001010110000110000111011100100', '1111110000111010110110111110100101100011001110000011011010111010', '0010010000000100001011110001100011011100001010010101110101011100', '0101001000001111011001100101101110100000101010100111101010110011', '1100101110000011011111001010011101110111111111110011101000111110', '1010001001000000011100001011010110011010010111010111011011011000', '1111110001111011000111011001110111111101000001001001001010110000', '0111011010111111101011110010110101111101111100111110100110100101', '0000100111110011010010011001100000100100100100000011010001001011', '0011000001111010100101111100010001011010101010110011111110100111', '1011000101101011111000011101111000110110110101001010011000110000', '0010010101101100011011000100011111001110111010111110011011011001', '0010010000100001001011000110010001111011100010000011010111111101', '1001010010010001110001100011000000101011010000010101100110110110', '1110011110010110110011010011000100100100011100111001001110000010', '1010000110010111000100111111001111101101110110100111110111111001', '1111101001000010000010100001111110111010011001101011101010111010', '0100001011001011101000110001100100010101011001011000110001100111', '2222222222222222222222222222222222222222222222222222222222222222', '2222222222222222222222222222222222222222222222222222222222222222', '2222222222222222222222222222222222222222222222222222222222222222', '2222222222222222222222222222222222222222222222222222222222222222', '2222222222222222222222222222222222222222222222222222222222222222', '2222222222222222222222222222222222222222222222222222222222222222', '2222222222222222222222222222222222222222222222222222222222222222', '2222222222222222222222222222222222222222222222222222222222222222', '2222222222222222222222222222222222222222222222222222222222222222', '2222222222222222222222222222222222222222222222222222222222222222', '2222222222222222222222222222222222222222222222222222222222222222', '2222222222222222222222222222222222222222222222222222222222222222', '2222222222222222222222222222222222222222222222222222222222222222', '2222222222222222222222222222222222222222222222222222222222222222', '2222222222222222222222222222222222222222222222222222222222222222', '2222222222222222222222222222222222222222222222222222222222222222', '2222222222222222222222222222222222222222222222222222222222222222', '2222222222222222222222222222222222222222222222222222222222222222', '2222222222222222222222222222222222222222222222222222222222222222', '2222222222222222222222222222222222222222222222222222222222222222', '2222222222222222222222222222222222222222222222222222222222222222', '2222222222222222222222222222222222222222222222222222222222222222', '2222222222222222222222222222222222222222222222222222222222222222', '2222222222222222222222222222222222222222222222222222222222222222', '2222222222222222222222222222222222222222222222222222222222222222', '2222222222222222222222222222222222222222222222222222222222222222', '2222222222222222222222222222222222222222222222222222222222222222', '2222222222222222222222222222222222222222222222222222222222222222', '2222222222222222222222222222222222222222222222222222222222222222', '2222222222222222222222222222222222222222222222222222222222222222', '2222222222222222222222222222222222222222222222222222222222222222', '2222222222222222222222222222222222222222222222222222222222222222', '0110110111111011111010111011110001010001101110001110000101100000', '1100011100110010101111100101100011101101101111001111011111100010', '0011010110011101000000001010101000110101111011111011011011111011', '1001001000000101110100010101000100100001111111110011111011110001', '1101111011101011111011010000000011100010110100001010001110100010', '0100010100001011011010000111100101001010011100110010101010001100', '1000010011101001001111111001010000001011000011000010100000110110', '0000110011000110000100101100111001001010011101101110101001011101', '1110001101011100000111001101010000100101100101100011111101110101', '1101011000110001110100001011100011101110100011000111100000110001', '1001101111001011111101110111111000111111011001111111110100101110', '1010001011111111110001010011111100110010001101100010101001100100', '0100110110100010111000001100101101001011101010111001010000001101', '1111101000100101111011010011011001111100111010001001111001101110', '0110011110110101000111100011111000110101100000101110100110110010', '1010011010011000100100011000111000000111101100010110110010001010', '0100100110000101011111100010001111100101000001001110110011010111', '0011110101000011000100110010111010001010111111000010001001110011', '0101000000001110010100110111100010001011110010101010110001001010', '1001110010011100000100000001111101010101000110100101100100101000', '0100011100010101111010100001100111100000001001001010110010110110', '1010111100000101110110000100001110101000101010111001000111101110', '0010110011011101110001110111100001110110110110001011100111100001', '1110011011010001001000000101001010110110110111000110101101111000', '1011010001001011110101011000111011100100000010100000011010111111', '0000101001011001111100111100000100011000001111011000001001011111', '0010111001000110000110010100101111100100110000000011100111010110', '0010000101010000100100111101010001011011010110011110101100011000', '1110001011000001010101010100111001010011101110111111101110010010', '0111011001110100110100010111100000011000000110000101110001010010', '0000001110101111100101000110101010000001111100101010100101111000', '1011000001111000010100001100100011001110111001010010100111111101']\n"
     ]
    }
   ],
   "source": [
    "print(pred_wms)\n",
    "print(true_wms)"
   ]
  },
  {
   "cell_type": "code",
   "execution_count": 27,
   "id": "98c2d82d",
   "metadata": {},
   "outputs": [],
   "source": [
    "with open (\"./../output/pred_wm.txt\", 'w+') as f:\n",
    "    for wm in pred_wms:\n",
    "        f.write(f\"{wm}\\n\")\n",
    "with open (\"./../output/true_wm.txt\", 'w+') as f:\n",
    "    for wm in true_wms:\n",
    "        f.write(f\"{wm}\\n\")"
   ]
  },
  {
   "cell_type": "code",
   "execution_count": null,
   "id": "60402ddc",
   "metadata": {},
   "outputs": [],
   "source": []
  }
 ],
 "metadata": {
  "kernelspec": {
   "display_name": "Python 3",
   "language": "python",
   "name": "python3"
  },
  "language_info": {
   "codemirror_mode": {
    "name": "ipython",
    "version": 3
   },
   "file_extension": ".py",
   "mimetype": "text/x-python",
   "name": "python",
   "nbconvert_exporter": "python",
   "pygments_lexer": "ipython3",
   "version": "3.9.6"
  }
 },
 "nbformat": 4,
 "nbformat_minor": 5
}

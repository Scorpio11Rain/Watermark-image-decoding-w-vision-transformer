{
 "cells": [
  {
   "cell_type": "code",
   "execution_count": 1,
   "id": "initial_id",
   "metadata": {
    "ExecuteTime": {
     "end_time": "2024-12-05T14:10:49.877011Z",
     "start_time": "2024-12-05T14:10:41.657072Z"
    },
    "collapsed": true
   },
   "outputs": [],
   "source": [
    "import torch\n",
    "import torch.nn as nn\n",
    "from torch.utils.data import Dataset, DataLoader\n",
    "from torchvision import transforms, datasets\n",
    "from matplotlib import pyplot as plt\n",
    "import collections\n",
    "from models.VisionTransformer import VisionTransformerClassifier\n",
    "from models.stegastamp_wm import StegaStampDecoder, StegaStampEncoder\n",
    "from score import f1\n",
    "import torch.optim as optim\n",
    "from dataset import get_image_dataloader\n",
    "import os"
   ]
  },
  {
   "cell_type": "code",
   "execution_count": 2,
   "id": "b8ccf81e862deff",
   "metadata": {
    "ExecuteTime": {
     "end_time": "2024-12-05T14:10:50.529115Z",
     "start_time": "2024-12-05T14:10:49.879116Z"
    }
   },
   "outputs": [],
   "source": [
    "image_size = 256\n",
    "num_bits = 64\n",
    "if torch.backends.mps.is_available():\n",
    "    device = torch.device('mps')\n",
    "else:\n",
    "    device = torch.device('cuda') if torch.cuda.is_available() else 'cpu'   \n",
    "    \n",
    "transform = transforms.Compose([\n",
    "                                transforms.Resize(image_size),\n",
    "                                transforms.CenterCrop(image_size),\n",
    "                                transforms.ToTensor(),\n",
    "                            ]) "
   ]
  },
  {
   "cell_type": "code",
   "execution_count": 3,
   "id": "359f416928861756",
   "metadata": {
    "ExecuteTime": {
     "end_time": "2024-12-05T14:10:50.648052Z",
     "start_time": "2024-12-05T14:10:50.530019Z"
    }
   },
   "outputs": [
    {
     "data": {
      "text/plain": [
       "<All keys matched successfully>"
      ]
     },
     "execution_count": 3,
     "metadata": {},
     "output_type": "execute_result"
    }
   ],
   "source": [
    "encoder = StegaStampEncoder(image_size, 3, num_bits).to(device)\n",
    "encoder.load_state_dict(torch.load('models/wm_stegastamp_encoder.pth', map_location=device, weights_only=True))\n",
    "decoder = StegaStampDecoder(image_size, 3, num_bits).to(device)\n",
    "decoder.load_state_dict(torch.load('models/wm_stegastamp_decoder.pth', map_location=device, weights_only=True))"
   ]
  },
  {
   "cell_type": "code",
   "execution_count": 4,
   "id": "f044961e",
   "metadata": {},
   "outputs": [],
   "source": [
    "num_epochs = 100\n",
    "batch_size = 64\n",
    "train_loader = get_image_dataloader(\"./../data/images/train\", transform, batch_size=batch_size, shuffle=True)\n",
    "val_loader = get_image_dataloader(\"./../data/images/val\", transform, batch_size=batch_size, shuffle=True)\n",
    "\n",
    "model = VisionTransformerClassifier(input_resolution=image_size, layers=4, heads=8, output_dim=2).to(device)\n",
    "crit = nn.CrossEntropyLoss()\n",
    "opt = optim.Adam(model.parameters(), lr=1e-4)\n"
   ]
  },
  {
   "cell_type": "code",
   "execution_count": null,
   "id": "dad92d4ae0c64813",
   "metadata": {},
   "outputs": [],
   "source": [
    "for epoch in range(num_epochs):\n",
    "    tp = 1e-10\n",
    "    fp = 1e-10\n",
    "    fn = 1e-10\n",
    "    tn = 1e-10\n",
    "    for images in train_loader:\n",
    "        images = images.to(device)\n",
    "        watermarks = torch.randint(0, 2, (images.shape[0], num_bits)).float().to(device)\n",
    "        encoded_split = images.shape[0] // 2\n",
    "        watermarks[:encoded_split] = 2\n",
    "        images[encoded_split:] = encoder(watermarks[encoded_split:], images[encoded_split:])\n",
    "        true_labels = (watermarks[:, 0] != 2).int()\n",
    "        \n",
    "        \n",
    "        opt.zero_grad()\n",
    "        pred_scores = model(images)\n",
    "        pred_labels = torch.argmax(pred_scores, dim=-1)\n",
    "        loss = crit(pred_scores, true_labels)\n",
    "        loss.backward()\n",
    "        opt.step()\n",
    "        \n",
    "        tp += torch.sum((pred_labels == 1) & (pred_labels == true_labels)).item()\n",
    "        tn += torch.sum((pred_labels == 0) & (pred_labels == true_labels)).item()\n",
    "        fp += torch.sum((pred_labels == 1) & (pred_labels != true_labels)).item()\n",
    "        fn += torch.sum((pred_labels == 0) & (pred_labels != true_labels)).item()\n",
    "        print(f1(tp, tn, fp, tn))\n",
    "        print(loss.item())\n",
    "        "
   ]
  },
  {
   "cell_type": "code",
   "execution_count": 6,
   "id": "844cba26d4621713",
   "metadata": {
    "ExecuteTime": {
     "end_time": "2024-12-05T14:12:08.303737Z",
     "start_time": "2024-12-05T14:12:08.303668Z"
    }
   },
   "outputs": [
    {
     "name": "stdout",
     "output_type": "stream",
     "text": [
      "{'Precision': 0.9364406779657318, 'Recall': 0.48464912280702427, 'F1-score': 0.6387283236993417, 'Accuracy': 0.6458923512747049}\n"
     ]
    }
   ],
   "source": [
    "fp = 1e-10\n",
    "tp = 1e-10\n",
    "fn = 1e-10\n",
    "tn = 1e-10\n",
    "with torch.no_grad():\n",
    "    for images in val_loader:\n",
    "        images = images.to(device)\n",
    "        watermarks = torch.randint(0, 2, (images.shape[0], num_bits)).float().to(device)\n",
    "        encoded_split = images.shape[0] // 2\n",
    "        watermarks[:encoded_split] = 2\n",
    "        images[encoded_split:] = encoder(watermarks[encoded_split:], images[encoded_split:])\n",
    "        true_labels = (watermarks[:, 0] != 2).int()\n",
    "        \n",
    "        pred_scores = model(images)\n",
    "        pred_labels = torch.argmax(pred_scores, dim=-1)\n",
    "        \n",
    "        tp += torch.sum((pred_labels == 1) & (pred_labels == true_labels)).item()\n",
    "        tn += torch.sum((pred_labels == 0) & (pred_labels == true_labels)).item()\n",
    "        fp += torch.sum((pred_labels == 1) & (pred_labels != true_labels)).item()\n",
    "        fn += torch.sum((pred_labels == 0) & (pred_labels != true_labels)).item()\n",
    "print(f1(tp, tn, fp, tn))"
   ]
  },
  {
   "cell_type": "code",
   "execution_count": null,
   "id": "071368f4",
   "metadata": {},
   "outputs": [],
   "source": []
  },
  {
   "cell_type": "code",
   "execution_count": null,
   "id": "5e5a195f",
   "metadata": {},
   "outputs": [],
   "source": []
  }
 ],
 "metadata": {
  "kernelspec": {
   "display_name": "Python 3",
   "language": "python",
   "name": "python3"
  },
  "language_info": {
   "codemirror_mode": {
    "name": "ipython",
    "version": 3
   },
   "file_extension": ".py",
   "mimetype": "text/x-python",
   "name": "python",
   "nbconvert_exporter": "python",
   "pygments_lexer": "ipython3",
   "version": "3.9.6"
  }
 },
 "nbformat": 4,
 "nbformat_minor": 5
}

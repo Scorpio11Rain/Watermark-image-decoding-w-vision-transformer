{
 "cells": [
  {
   "cell_type": "code",
   "execution_count": null,
   "id": "initial_id",
   "metadata": {
    "ExecuteTime": {
     "end_time": "2024-11-20T02:44:14.589041Z",
     "start_time": "2024-11-20T02:44:14.585735Z"
    },
    "collapsed": true
   },
   "outputs": [],
   "source": [
    "import torch\n",
    "import torch.nn as nn\n",
    "import torch.optim as optim\n",
    "from torch.utils.data import Dataset, DataLoader\n",
    "from torchvision import transforms, datasets\n",
    "from bert_score import score\n",
    "from matplotlib import pyplot as plt\n",
    "import collections\n",
    "from transformers import VisionEncoderDecoderModel, ViTFeatureExtractor,AutoTokenizer\n",
    "from tqdm import trange\n",
    "import numpy as np\n",
    "import os\n",
    "from models.stegastamp_wm import StegaStampDecoder, StegaStampEncoder\n",
    "from evaluate import load\n",
    "from score import f1\n",
    "from dataset import get_image_dataloader"
   ]
  },
  {
   "cell_type": "code",
   "execution_count": 2,
   "id": "8f703baf49f7c115",
   "metadata": {
    "ExecuteTime": {
     "end_time": "2024-11-20T02:44:15.683066Z",
     "start_time": "2024-11-20T02:44:15.298811Z"
    }
   },
   "outputs": [],
   "source": [
    "image_size = 256\n",
    "num_bits = 64\n",
    "if torch.backends.mps.is_available():\n",
    "    device = torch.device('mps')\n",
    "else:\n",
    "    device = torch.device('cuda') if torch.cuda.is_available() else 'cpu'    \n",
    "    \n",
    "transform = transforms.Compose([\n",
    "                                transforms.Resize(image_size),\n",
    "                                transforms.CenterCrop(image_size),\n",
    "                                transforms.ToTensor()\n",
    "                            ]) "
   ]
  },
  {
   "cell_type": "code",
   "execution_count": null,
   "id": "4261a76a11128fa5",
   "metadata": {
    "ExecuteTime": {
     "end_time": "2024-11-20T02:44:16.626284Z",
     "start_time": "2024-11-20T02:44:16.435419Z"
    }
   },
   "outputs": [],
   "source": [
    "encoder = StegaStampEncoder(image_size, 3, num_bits).to(device)\n",
    "encoder.load_state_dict(torch.load('models/wm_stegastamp_encoder.pth', map_location=device, weights_only=True))\n",
    "decoder = StegaStampDecoder(image_size, 3, num_bits).to(device)\n",
    "decoder.load_state_dict(torch.load('models/wm_stegastamp_decoder.pth', map_location=device, weights_only=True))"
   ]
  },
  {
   "cell_type": "code",
   "execution_count": 4,
   "id": "1d8aa75f",
   "metadata": {},
   "outputs": [],
   "source": [
    "class WMClassifier(nn.Module):\n",
    "    def __init__(self, image_size: int):\n",
    "        super().__init__()\n",
    "        self.image_size = image_size\n",
    "        self.decoder = nn.Sequential(\n",
    "            nn.Conv2d(3, 32, (3, 3), 2, 1),  # 16\n",
    "            nn.ReLU(),\n",
    "            nn.Conv2d(32, 32, 3, 1, 1),\n",
    "            nn.ReLU(),\n",
    "            nn.Conv2d(32, 64, 3, 2, 1),  # 8\n",
    "            nn.ReLU(),\n",
    "            nn.Conv2d(64, 64, 3, 1, 1),\n",
    "            nn.ReLU(),\n",
    "            nn.Conv2d(64, 64, 3, 2, 1),  # 4\n",
    "            nn.ReLU(),\n",
    "            nn.Conv2d(64, 128, 3, 2, 1),  # 2\n",
    "            nn.ReLU(),\n",
    "            nn.Conv2d(128, 128, (3, 3), 2, 1),\n",
    "            nn.ReLU(),\n",
    "        )\n",
    "        self.dense = nn.Sequential(\n",
    "            nn.Linear(image_size * image_size * 128 // 32 // 32, 512),\n",
    "            nn.ReLU(),\n",
    "            nn.Linear(512, 64),\n",
    "            nn.ReLU(),\n",
    "            nn.Linear(64, 2)\n",
    "        )\n",
    "\n",
    "    def forward(self, image):\n",
    "        x = self.decoder(image)\n",
    "        x = x.view(-1, self.image_size * self.image_size * 128 // 32 // 32)\n",
    "        return self.dense(x)\n"
   ]
  },
  {
   "cell_type": "code",
   "execution_count": 5,
   "id": "23c94120",
   "metadata": {},
   "outputs": [],
   "source": [
    "num_epochs = 100\n",
    "batch_size = 64\n",
    "train_loader = get_image_dataloader(\"./../data/images/train\", transform, batch_size=batch_size, shuffle=True)\n",
    "val_loader = get_image_dataloader(\"./../data/images/val\", transform, batch_size=batch_size, shuffle=True)\n",
    "\n",
    "model = WMClassifier(image_size).to(device)\n",
    "crit = nn.CrossEntropyLoss()\n",
    "opt = optim.Adam(model.parameters(), lr=5e-4)"
   ]
  },
  {
   "cell_type": "code",
   "execution_count": null,
   "id": "f5fc429a",
   "metadata": {},
   "outputs": [],
   "source": [
    "tp = 1e-10\n",
    "fp = 1e-10\n",
    "fn = 1e-10\n",
    "tn = 1e-10\n",
    "for epoch in range(num_epochs):\n",
    "    for images in train_loader:\n",
    "        images = images.to(device)\n",
    "        watermarks = torch.randint(0, 2, (images.shape[0], num_bits)).float().to(device)\n",
    "        encoded_split = images.shape[0] // 2\n",
    "        watermarks[:encoded_split] = 2\n",
    "        images[encoded_split:] = encoder(watermarks[encoded_split:], images[encoded_split:])\n",
    "        true_labels = (watermarks[:, 0] != 2).int()\n",
    "        \n",
    "        \n",
    "        opt.zero_grad()\n",
    "        pred_scores = model(images)\n",
    "        pred_labels = torch.argmax(pred_scores, dim=-1)\n",
    "        loss = crit(pred_scores, true_labels)\n",
    "        loss.backward()\n",
    "        opt.step()\n",
    "        \n",
    "        tp += torch.sum((pred_labels == 1) & (pred_labels == true_labels)).item()\n",
    "        tn += torch.sum((pred_labels == 0) & (pred_labels == true_labels)).item()\n",
    "        fp += torch.sum((pred_labels == 1) & (pred_labels != true_labels)).item()\n",
    "        fn += torch.sum((pred_labels == 0) & (pred_labels != true_labels)).item()\n",
    "        print(f1(tp, tn, fp, tn))\n",
    "        print(loss.item())\n",
    "        \n",
    "        \n",
    "        "
   ]
  },
  {
   "cell_type": "code",
   "execution_count": null,
   "id": "452410cf",
   "metadata": {},
   "outputs": [],
   "source": [
    "fp = 1e-10\n",
    "tp = 1e-10\n",
    "fn = 1e-10\n",
    "tn = 1e-10\n",
    "with torch.no_grad():\n",
    "    for images in val_loader:\n",
    "        images = images.to(device)\n",
    "        watermarks = torch.randint(0, 2, (images.shape[0], num_bits)).float().to(device)\n",
    "        encoded_split = images.shape[0] // 2\n",
    "        watermarks[:encoded_split] = 2\n",
    "        images[encoded_split:] = encoder(watermarks[encoded_split:], images[encoded_split:])\n",
    "        true_labels = (watermarks[:, 0] != 2).int()\n",
    "        \n",
    "        pred_scores = model(images)\n",
    "        pred_labels = torch.argmax(pred_scores, dim=-1)\n",
    "        \n",
    "        tp += torch.sum((pred_labels == 1) & (pred_labels == true_labels)).item()\n",
    "        tn += torch.sum((pred_labels == 0) & (pred_labels == true_labels)).item()\n",
    "        fp += torch.sum((pred_labels == 1) & (pred_labels != true_labels)).item()\n",
    "        fn += torch.sum((pred_labels == 0) & (pred_labels != true_labels)).item()\n",
    "print(f1(tp, tn, fp, tn))"
   ]
  },
  {
   "cell_type": "code",
   "execution_count": null,
   "id": "f80de81763b5a655",
   "metadata": {},
   "outputs": [],
   "source": [
    "tp = 1e-7\n",
    "fp = 1e-7\n",
    "tn = 1e-7\n",
    "fn = 1e-7\n",
    "avg_bit_acc = 0\n",
    "with torch.no_grad():\n",
    "    for images in val_loader:\n",
    "        images = images.to(device)\n",
    "        watermarks = torch.randint(0, 2, (images.shape[0], num_bits)).float().to(device)\n",
    "        encode_split = watermarks.shape[0]//2\n",
    "        watermarks[:encode_split] = 2\n",
    "        true_labels = (watermarks[:, 0] != 2).int()\n",
    "        images[encode_split:] = encoder(watermarks[encode_split:], images[encode_split:])\n",
    "        pred_labels = torch.argmax(model(images), dim=-1)\n",
    "        tp += torch.sum((pred_labels == 1) & (pred_labels == true_labels)).item()\n",
    "        tn += torch.sum((pred_labels == 0) & (pred_labels == true_labels)).item()\n",
    "        fp += torch.sum((pred_labels == 1) & (pred_labels != true_labels)).item()\n",
    "        fn += torch.sum((pred_labels == 0) & (pred_labels != true_labels)).item()\n",
    "        if torch.sum(pred_labels == 1) > 0:\n",
    "            encoded_images = images[true_labels == 1]\n",
    "            true_watermarks = watermarks[true_labels == 1]\n",
    "            pred_watermarks = torch.round(decoder(encoded_images))\n",
    "            avg_bit_acc += torch.mean((pred_watermarks == true_watermarks).float()).item()\n",
    "    print(f1(tp, tn, fp, fn))\n",
    "    print(avg_bit_acc / len(val_loader))"
   ]
  },
  {
   "cell_type": "code",
   "execution_count": null,
   "id": "5ab48b00",
   "metadata": {},
   "outputs": [],
   "source": []
  }
 ],
 "metadata": {
  "kernelspec": {
   "display_name": "Python 3",
   "language": "python",
   "name": "python3"
  },
  "language_info": {
   "codemirror_mode": {
    "name": "ipython",
    "version": 3
   },
   "file_extension": ".py",
   "mimetype": "text/x-python",
   "name": "python",
   "nbconvert_exporter": "python",
   "pygments_lexer": "ipython3",
   "version": "3.9.6"
  }
 },
 "nbformat": 4,
 "nbformat_minor": 5
}

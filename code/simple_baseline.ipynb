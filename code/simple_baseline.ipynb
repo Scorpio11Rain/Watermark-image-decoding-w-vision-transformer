{
  "cells": [
    {
      "cell_type": "code",
      "execution_count": 5,
      "id": "initial_id",
      "metadata": {
        "ExecuteTime": {
          "end_time": "2024-11-19T03:32:54.116367Z",
          "start_time": "2024-11-19T03:32:54.114088Z"
        },
        "collapsed": true,
        "id": "initial_id"
      },
      "outputs": [],
      "source": [
        "\n",
        "import torch\n",
        "from torch.utils.data import Dataset, DataLoader\n",
        "from models.stegastamp_wm import StegaStampDecoder, StegaStampEncoder\n",
        "from score import f1\n",
        "from torchvision import transforms\n",
        "import os\n",
        "from dataset import get_image_dataloader\n",
        "\n"
      ]
    },
    {
      "cell_type": "code",
      "execution_count": 6,
      "id": "8f703baf49f7c115",
      "metadata": {
        "ExecuteTime": {
          "end_time": "2024-11-19T03:32:07.703975Z",
          "start_time": "2024-11-19T03:32:07.273226Z"
        },
        "colab": {
          "base_uri": "https://localhost:8080/"
        },
        "id": "8f703baf49f7c115",
        "outputId": "2e2da41c-ac4e-497e-8763-05c1305e5f18"
      },
      "outputs": [],
      "source": [
        "image_size = 256\n",
        "num_bits = 64\n",
        "if torch.backends.mps.is_available():\n",
        "    device = torch.device('mps')\n",
        "else:\n",
        "    device = torch.device('cuda') if torch.cuda.is_available() else 'cpu'    \n",
        "\n",
        "transform = transforms.Compose([\n",
        "                                transforms.Resize(image_size),\n",
        "                                transforms.CenterCrop(image_size),\n",
        "                                transforms.ToTensor()\n",
        "                            ]) "
      ]
    },
    {
      "cell_type": "code",
      "execution_count": 7,
      "id": "4261a76a11128fa5",
      "metadata": {
        "ExecuteTime": {
          "end_time": "2024-11-19T03:18:12.503290Z",
          "start_time": "2024-11-19T03:18:12.454232Z"
        },
        "colab": {
          "base_uri": "https://localhost:8080/"
        },
        "id": "4261a76a11128fa5",
        "outputId": "938fa67c-0292-40ef-ec54-c299d4dea83e"
      },
      "outputs": [
        {
          "data": {
            "text/plain": [
              "<All keys matched successfully>"
            ]
          },
          "execution_count": 7,
          "metadata": {},
          "output_type": "execute_result"
        }
      ],
      "source": [
        "encoder = StegaStampEncoder(image_size, 3, num_bits).to(device)\n",
        "encoder.load_state_dict(torch.load('models/wm_stegastamp_encoder.pth', map_location=device, weights_only=True))\n",
        "decoder = StegaStampDecoder(image_size, 3, num_bits).to(device)\n",
        "decoder.load_state_dict(torch.load('models/wm_stegastamp_decoder.pth', map_location=device, weights_only=True))"
      ]
    },
    {
      "cell_type": "code",
      "execution_count": 9,
      "id": "1edfa40c",
      "metadata": {},
      "outputs": [],
      "source": [
        "val_loader = get_image_dataloader(\"./../data/images/val\", transform, batch_size=64, shuffle=True)"
      ]
    },
    {
      "cell_type": "code",
      "execution_count": 12,
      "id": "U4i2VxShzpZq",
      "metadata": {
        "id": "U4i2VxShzpZq"
      },
      "outputs": [
        {
          "name": "stdout",
          "output_type": "stream",
          "text": [
            "{'Precision': 0.5, 'Recall': 0.482151963284039, 'F1-score': 0.49091381100726905, 'Accuracy': 0.5}\n",
            "tensor(0.4985, device='mps:0')\n"
          ]
        }
      ],
      "source": [
        "tp = 1e-10\n",
        "fp = 1e-10\n",
        "fn = 1e-10\n",
        "tn = 1e-10\n",
        "avg_bit_acc = 0\n",
        "with torch.no_grad():\n",
        "    for images in val_loader:\n",
        "        images = images.to(device)\n",
        "        watermarks = torch.randint(0, 2, (images.shape[0], num_bits)).float().to(device)\n",
        "        encode_split = images.shape[0] // 2\n",
        "        watermarks[:encode_split] = 2\n",
        "        true_labels = (watermarks[:, 0] != 2).int()\n",
        "        pred_labels = torch.randint(0, 2, (watermarks.shape[0], 1)).float().to(device)\n",
        "        tp += torch.sum((pred_labels == 1) & (pred_labels == true_labels)).item()\n",
        "        tn += torch.sum((pred_labels == 0) & (pred_labels == true_labels)).item()\n",
        "        fp += torch.sum((pred_labels == 1) & (pred_labels != true_labels)).item()\n",
        "        fn += torch.sum((pred_labels == 0) & (pred_labels != true_labels)).item()\n",
        "        if torch.sum(true_labels == 1) > 0:\n",
        "            true_watermarks = watermarks[true_labels == 1]\n",
        "            pred_watermarks = torch.randint(0, 2, (true_watermarks.shape[0], num_bits)).float().to(device)\n",
        "            avg_bit_acc += torch.mean((pred_watermarks == true_watermarks).float())\n",
        "    print(f1(tp, tn, fp, fn))\n",
        "    print(avg_bit_acc / len(val_loader))"
      ]
    },
    {
      "cell_type": "code",
      "execution_count": null,
      "id": "943b1cfe",
      "metadata": {},
      "outputs": [],
      "source": []
    }
  ],
  "metadata": {
    "accelerator": "GPU",
    "colab": {
      "gpuType": "T4",
      "provenance": []
    },
    "kernelspec": {
      "display_name": "Python 3",
      "name": "python3"
    },
    "language_info": {
      "codemirror_mode": {
        "name": "ipython",
        "version": 3
      },
      "file_extension": ".py",
      "mimetype": "text/x-python",
      "name": "python",
      "nbconvert_exporter": "python",
      "pygments_lexer": "ipython3",
      "version": "3.9.6"
    }
  },
  "nbformat": 4,
  "nbformat_minor": 5
}
